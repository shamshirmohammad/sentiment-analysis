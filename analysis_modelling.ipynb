{
 "cells": [
  {
   "cell_type": "markdown",
   "id": "fc5d1836-f320-4306-b79c-403dcd05d59d",
   "metadata": {
    "id": "fc5d1836-f320-4306-b79c-403dcd05d59d"
   },
   "source": [
    "# Setup"
   ]
  },
  {
   "cell_type": "code",
   "execution_count": 5,
   "id": "9bc57aed-5977-438f-87a4-102d1d45afec",
   "metadata": {
    "id": "9bc57aed-5977-438f-87a4-102d1d45afec"
   },
   "outputs": [],
   "source": [
    "# Load necessary libraries\n",
    "import pandas as pd\n",
    "import matplotlib.pyplot as plt\n",
    "%matplotlib inline\n",
    "import seaborn as sns\n",
    "import numpy as np\n",
    "from pandas.plotting import register_matplotlib_converters\n",
    "import joblib\n",
    "import random\n",
    "\n",
    "\n",
    "import sklearn\n",
    "from sklearn.feature_extraction.text import TfidfVectorizer\n",
    "from sklearn.model_selection import train_test_split\n",
    "\n",
    "import nltk\n",
    "from nltk.corpus import stopwords as nltk_stopwords\n",
    "from wordcloud import WordCloud, STOPWORDS\n",
    "\n",
    "from transformers import AutoModel\n",
    "import torch\n",
    "from torch import nn\n",
    "from torch.nn import functional as F\n",
    "\n",
    "%matplotlib inline\n",
    "# %config InlineBackend.figure_format='svg'\n",
    "\n",
    "register_matplotlib_converters()\n",
    "# can add font_scale=1.5 if necessary\n",
    "sns.set(style='whitegrid', palette='muted')\n",
    "\n",
    "import warnings\n",
    "warnings.filterwarnings('ignore')"
   ]
  },
  {
   "cell_type": "code",
   "execution_count": 2,
   "id": "24ca3afa-21d2-45d1-90e4-30e43fa2ee8f",
   "metadata": {
    "id": "24ca3afa-21d2-45d1-90e4-30e43fa2ee8f"
   },
   "outputs": [],
   "source": [
    "# setting some visualization parameters\n",
    "# plt.style.use('seaborn')\n",
    "# rcparams must come after style\n",
    "plt.rcParams['figure.figsize'] = (10, 10)\n",
    "plt.rcParams['axes.labelsize'] = 15\n",
    "plt.rcParams['xtick.labelsize'] = 12\n",
    "plt.rcParams['ytick.labelsize'] = 12"
   ]
  },
  {
   "cell_type": "code",
   "execution_count": 3,
   "id": "e8974293-833a-40b9-99fd-2636880fdf24",
   "metadata": {
    "colab": {
     "base_uri": "https://localhost:8080/"
    },
    "id": "e8974293-833a-40b9-99fd-2636880fdf24",
    "outputId": "a52c628a-40b9-4795-a9a4-ebdfc3309204"
   },
   "outputs": [
    {
     "name": "stderr",
     "output_type": "stream",
     "text": [
      "[nltk_data] Downloading package stopwords to\n",
      "[nltk_data]     C:\\Users\\user\\AppData\\Roaming\\nltk_data...\n",
      "[nltk_data]   Package stopwords is already up-to-date!\n"
     ]
    },
    {
     "data": {
      "text/plain": [
       "True"
      ]
     },
     "execution_count": 3,
     "metadata": {},
     "output_type": "execute_result"
    }
   ],
   "source": [
    "nltk.download(\"stopwords\")"
   ]
  },
  {
   "cell_type": "code",
   "execution_count": 13,
   "id": "7c799924-5bae-464e-8b0c-36ee90711bcf",
   "metadata": {
    "colab": {
     "base_uri": "https://localhost:8080/",
     "height": 204
    },
    "id": "7c799924-5bae-464e-8b0c-36ee90711bcf",
    "outputId": "74f5d641-e1d1-412a-e5ae-6a5eafd695a8"
   },
   "outputs": [
    {
     "data": {
      "text/html": [
       "<div>\n",
       "<style scoped>\n",
       "    .dataframe tbody tr th:only-of-type {\n",
       "        vertical-align: middle;\n",
       "    }\n",
       "\n",
       "    .dataframe tbody tr th {\n",
       "        vertical-align: top;\n",
       "    }\n",
       "\n",
       "    .dataframe thead th {\n",
       "        text-align: right;\n",
       "    }\n",
       "</style>\n",
       "<table border=\"1\" class=\"dataframe\">\n",
       "  <thead>\n",
       "    <tr style=\"text-align: right;\">\n",
       "      <th></th>\n",
       "      <th>review</th>\n",
       "      <th>sentiment</th>\n",
       "    </tr>\n",
       "  </thead>\n",
       "  <tbody>\n",
       "    <tr>\n",
       "      <th>0</th>\n",
       "      <td>One of the other reviewers has mentioned that ...</td>\n",
       "      <td>positive</td>\n",
       "    </tr>\n",
       "    <tr>\n",
       "      <th>1</th>\n",
       "      <td>A wonderful little production. &lt;br /&gt;&lt;br /&gt;The...</td>\n",
       "      <td>positive</td>\n",
       "    </tr>\n",
       "    <tr>\n",
       "      <th>2</th>\n",
       "      <td>I thought this was a wonderful way to spend ti...</td>\n",
       "      <td>positive</td>\n",
       "    </tr>\n",
       "    <tr>\n",
       "      <th>3</th>\n",
       "      <td>Basically there's a family where a little boy ...</td>\n",
       "      <td>negative</td>\n",
       "    </tr>\n",
       "    <tr>\n",
       "      <th>4</th>\n",
       "      <td>Petter Mattei's \"Love in the Time of Money\" is...</td>\n",
       "      <td>positive</td>\n",
       "    </tr>\n",
       "  </tbody>\n",
       "</table>\n",
       "</div>"
      ],
      "text/plain": [
       "                                              review sentiment\n",
       "0  One of the other reviewers has mentioned that ...  positive\n",
       "1  A wonderful little production. <br /><br />The...  positive\n",
       "2  I thought this was a wonderful way to spend ti...  positive\n",
       "3  Basically there's a family where a little boy ...  negative\n",
       "4  Petter Mattei's \"Love in the Time of Money\" is...  positive"
      ]
     },
     "execution_count": 13,
     "metadata": {},
     "output_type": "execute_result"
    }
   ],
   "source": [
    "PATH = \"data\"\n",
    "df = pd.read_csv(f'{PATH}//IMDB Dataset.csv')\n",
    "df.head()"
   ]
  },
  {
   "cell_type": "code",
   "execution_count": 14,
   "id": "6f511ae4-4c77-4d7f-a730-97c0fd01b69d",
   "metadata": {
    "id": "6f511ae4-4c77-4d7f-a730-97c0fd01b69d"
   },
   "outputs": [],
   "source": [
    "df['sentiment'] = df['sentiment'].map({'positive': 1, 'negative': 0})"
   ]
  },
  {
   "cell_type": "code",
   "execution_count": 6,
   "id": "a412ca2d-2fc8-48a8-8971-a31f2881bc23",
   "metadata": {
    "id": "a412ca2d-2fc8-48a8-8971-a31f2881bc23",
    "outputId": "c963814d-2934-4494-b384-098ae2d4cf51"
   },
   "outputs": [
    {
     "data": {
      "text/plain": [
       "\"One of the other reviewers has mentioned that after watching just 1 Oz episode you'll be hooked. They are right, as this is exactly what happened with me.<br /><br />The first thing that struck me about Oz was its brutality and unflinching scenes of violence, which set in right from the word GO. Trust me, this is not a show for the faint hearted or timid. This show pulls no punches with regards to drugs, sex or violence. Its is hardcore, in the classic use of the word.<br /><br />It is called OZ as that is the nickname given to the Oswald Maximum Security State Penitentary. It focuses mainly on Emerald City, an experimental section of the prison where all the cells have glass fronts and face inwards, so privacy is not high on the agenda. Em City is home to many..Aryans, Muslims, gangstas, Latinos, Christians, Italians, Irish and more....so scuffles, death stares, dodgy dealings and shady agreements are never far away.<br /><br />I would say the main appeal of the show is due to the fact that it goes where other shows wouldn't dare. Forget pretty pictures painted for mainstream audiences, forget charm, forget romance...OZ doesn't mess around. The first episode I ever saw struck me as so nasty it was surreal, I couldn't say I was ready for it, but as I watched more, I developed a taste for Oz, and got accustomed to the high levels of graphic violence. Not just violence, but injustice (crooked guards who'll be sold out for a nickel, inmates who'll kill on order and get away with it, well mannered, middle class inmates being turned into prison bitches due to their lack of street skills or prison experience) Watching Oz, you may become comfortable with what is uncomfortable viewing....thats if you can get in touch with your darker side.\""
      ]
     },
     "execution_count": 6,
     "metadata": {},
     "output_type": "execute_result"
    }
   ],
   "source": [
    "df.loc[0, 'review']"
   ]
  },
  {
   "cell_type": "code",
   "execution_count": null,
   "id": "37a7feae-0c6d-44db-b4bc-0e42692561bd",
   "metadata": {
    "id": "37a7feae-0c6d-44db-b4bc-0e42692561bd",
    "outputId": "acf28393-f2c0-4962-bcdd-1cb87e5fd920"
   },
   "outputs": [
    {
     "data": {
      "text/plain": [
       "0    25000\n",
       "1    25000\n",
       "Name: sentiment, dtype: int64"
      ]
     },
     "execution_count": 17,
     "metadata": {
      "tags": []
     },
     "output_type": "execute_result"
    }
   ],
   "source": [
    "df.sentiment.value_counts()"
   ]
  },
  {
   "cell_type": "code",
   "execution_count": null,
   "id": "3d084ccb-eb17-4787-b3cc-a166dd544757",
   "metadata": {
    "id": "3d084ccb-eb17-4787-b3cc-a166dd544757",
    "outputId": "ed264bc8-9cb7-4671-c2c4-ce47f90be8dd"
   },
   "outputs": [
    {
     "data": {
      "image/png": "[encoded data removed]",
      "text/plain": [
       "<Figure size 720x720 with 1 Axes>"
      ]
     },
     "metadata": {
      "tags": []
     },
     "output_type": "display_data"
    }
   ],
   "source": [
    "sns.countplot(data=df, x='sentiment');"
   ]
  },
  {
   "cell_type": "code",
   "execution_count": null,
   "id": "58b7f194-ecd8-4a88-a42f-feaefa35b2ee",
   "metadata": {
    "id": "58b7f194-ecd8-4a88-a42f-feaefa35b2ee"
   },
   "outputs": [],
   "source": [
    "wc_stopwords = set(STOPWORDS)\n",
    "wc_stopwords.update([\"br\"])"
   ]
  },
  {
   "cell_type": "code",
   "execution_count": null,
   "id": "42bbc112-1288-4f61-a18d-4cae1ba96e06",
   "metadata": {
    "id": "42bbc112-1288-4f61-a18d-4cae1ba96e06"
   },
   "outputs": [],
   "source": [
    "positive_text = df.loc[df['sentiment'] == 1, 'review']\n",
    "positive_text = ' '.join(txt for txt in positive_text.values)\n",
    "\n",
    "negative_text = df.loc[df['sentiment'] == 0, 'review']\n",
    "negative_text = ' '.join(txt for txt in negative_text.values)"
   ]
  },
  {
   "cell_type": "code",
   "execution_count": null,
   "id": "1e8decca-d162-4007-a33f-b636aaf02998",
   "metadata": {
    "id": "1e8decca-d162-4007-a33f-b636aaf02998"
   },
   "outputs": [],
   "source": [
    "def generate_wordcloud(txt):\n",
    "    WC = WordCloud(stopwords=wc_stopwords, width=1000, height=500, max_words=500, min_font_size=5)\n",
    "    wordcloud = WC.generate(txt)\n",
    "    plt.imshow(wordcloud, interpolation='bilinear')\n",
    "    plt.axis('off')\n",
    "    plt.show()"
   ]
  },
  {
   "cell_type": "code",
   "execution_count": null,
   "id": "22b56d01-3256-4784-8d5c-64affe474663",
   "metadata": {
    "id": "22b56d01-3256-4784-8d5c-64affe474663",
    "outputId": "925a443a-b9d6-4c65-abec-229ec3a515bc"
   },
   "outputs": [
    {
     "data": {
      "image/png": "[encoded data removed]",
      "text/plain": [
       "<Figure size 576x576 with 1 Axes>"
      ]
     },
     "metadata": {
      "tags": []
     },
     "output_type": "display_data"
    }
   ],
   "source": [
    "generate_wordcloud(positive_text)"
   ]
  },
  {
   "cell_type": "code",
   "execution_count": null,
   "id": "ba123a7a-1a50-43aa-a99c-fe8293725872",
   "metadata": {
    "id": "ba123a7a-1a50-43aa-a99c-fe8293725872",
    "outputId": "aaffd561-3a50-4ea4-e5eb-aa694d803ce4"
   },
   "outputs": [
    {
     "data": {
      "image/png": "[encoded data removed]",
      "text/plain": [
       "<Figure size 576x576 with 1 Axes>"
      ]
     },
     "metadata": {
      "tags": []
     },
     "output_type": "display_data"
    }
   ],
   "source": [
    "generate_wordcloud(negative_text)"
   ]
  },
  {
   "cell_type": "markdown",
   "id": "37311827-c680-4fa1-8fb1-087d67af2c96",
   "metadata": {
    "id": "37311827-c680-4fa1-8fb1-087d67af2c96"
   },
   "source": [
    "# Logistic Regression"
   ]
  },
  {
   "cell_type": "code",
   "execution_count": 229,
   "id": "f62f7da0-f373-4440-89da-4ddcaca71f61",
   "metadata": {
    "id": "f62f7da0-f373-4440-89da-4ddcaca71f61"
   },
   "outputs": [],
   "source": [
    "X_train, X_test, y_train, y_test = train_test_split(df['review'],\n",
    "                                                    df['sentiment'],\n",
    "                                                    test_size=0.2,\n",
    "                                                    random_state=42)"
   ]
  },
  {
   "cell_type": "code",
   "execution_count": 230,
   "id": "ee0beab3-af85-4def-83ab-f06c6d08d963",
   "metadata": {
    "id": "ee0beab3-af85-4def-83ab-f06c6d08d963",
    "outputId": "30d4ee8f-8034-4294-d102-fd424ddb0f1e"
   },
   "outputs": [
    {
     "data": {
      "text/plain": [
       "(39087    That's what I kept asking myself during the ma...\n",
       " 30893    I did not watch the entire movie. I could not ...\n",
       " 45278    A touching love story reminiscent of In the M...\n",
       " 16398    This latter-day Fulci schlocker is a totally a...\n",
       " 13653    First of all, I firmly believe that Norwegian ...\n",
       " Name: review, dtype: object,\n",
       " 39087    0\n",
       " 30893    0\n",
       " 45278    1\n",
       " 16398    0\n",
       " 13653    0\n",
       " Name: sentiment, dtype: int64)"
      ]
     },
     "execution_count": 230,
     "metadata": {},
     "output_type": "execute_result"
    }
   ],
   "source": [
    "X_train.head(), y_train.head()"
   ]
  },
  {
   "cell_type": "code",
   "execution_count": 125,
   "id": "caf8ae7c-f1c4-4741-a610-390627898fca",
   "metadata": {
    "id": "caf8ae7c-f1c4-4741-a610-390627898fca",
    "outputId": "35c4a539-581a-490c-a394-8b8b0d96f67d"
   },
   "outputs": [
    {
     "data": {
      "text/plain": [
       "((40000,), (40000,), (10000,))"
      ]
     },
     "execution_count": 125,
     "metadata": {},
     "output_type": "execute_result"
    }
   ],
   "source": [
    "X_train.shape, y_train.shape, y_test.shape"
   ]
  },
  {
   "cell_type": "code",
   "execution_count": 126,
   "id": "0f2ac04d-1821-4711-88f3-f2d44c2eca4d",
   "metadata": {
    "id": "0f2ac04d-1821-4711-88f3-f2d44c2eca4d"
   },
   "outputs": [],
   "source": [
    "stopwords_set = set(nltk_stopwords.words('english'))"
   ]
  },
  {
   "cell_type": "code",
   "execution_count": 334,
   "id": "d97eae2b-82f0-455c-927b-13fafa6f7244",
   "metadata": {
    "id": "d97eae2b-82f0-455c-927b-13fafa6f7244"
   },
   "outputs": [],
   "source": [
    "vectorizer = TfidfVectorizer(stop_words=stopwords_set)\n",
    "X_train_tf = vectorizer.fit_transform(X_train)\n",
    "X_test_tf = vectorizer.transform(X_test)"
   ]
  },
  {
   "cell_type": "code",
   "execution_count": 335,
   "id": "4840e2a3-fec8-454b-b1eb-3c65f677b2e0",
   "metadata": {},
   "outputs": [],
   "source": [
    "joblib.dump(vectorizer, open('data/vectorizer.joblib', 'wb'))"
   ]
  },
  {
   "cell_type": "code",
   "execution_count": 341,
   "id": "077e6294-4fe0-4ed4-a020-64f387622c2b",
   "metadata": {},
   "outputs": [
    {
     "data": {
      "text/plain": [
       "92858"
      ]
     },
     "execution_count": 341,
     "metadata": {},
     "output_type": "execute_result"
    }
   ],
   "source": [
    "len(vectorizer.vocabulary_)"
   ]
  },
  {
   "cell_type": "code",
   "execution_count": 128,
   "id": "77b7775d-d8b7-4fb8-94f3-33851296f3ed",
   "metadata": {
    "id": "77b7775d-d8b7-4fb8-94f3-33851296f3ed",
    "outputId": "c00e458e-e410-46cd-fc5d-c309f4a92302"
   },
   "outputs": [
    {
     "data": {
      "text/plain": [
       "LogisticRegression(random_state=42)"
      ]
     },
     "execution_count": 128,
     "metadata": {},
     "output_type": "execute_result"
    }
   ],
   "source": [
    "from sklearn.linear_model import LogisticRegression\n",
    "\n",
    "clf = LogisticRegression(random_state=42)\n",
    "clf.fit(X_train_tf, y_train)"
   ]
  },
  {
   "cell_type": "code",
   "execution_count": 156,
   "id": "6be4af08-c3fb-4941-a4b2-37d02d193096",
   "metadata": {},
   "outputs": [
    {
     "data": {
      "text/plain": [
       "0.934775"
      ]
     },
     "execution_count": 156,
     "metadata": {},
     "output_type": "execute_result"
    }
   ],
   "source": [
    "clf.score(X_train_tf, y_train)"
   ]
  },
  {
   "cell_type": "code",
   "execution_count": 231,
   "id": "2384a272-94dd-44e2-bd35-3b3facc1cb34",
   "metadata": {
    "id": "2384a272-94dd-44e2-bd35-3b3facc1cb34",
    "outputId": "ca38d6a8-48f7-4695-cafb-06a66a4c690c"
   },
   "outputs": [
    {
     "data": {
      "text/plain": [
       "0.8972"
      ]
     },
     "execution_count": 231,
     "metadata": {},
     "output_type": "execute_result"
    }
   ],
   "source": [
    "clf.score(X_test_tf, y_test)"
   ]
  },
  {
   "cell_type": "code",
   "execution_count": 243,
   "id": "6b9f2afd-62b1-423f-a862-536cad7edd38",
   "metadata": {
    "id": "6b9f2afd-62b1-423f-a862-536cad7edd38"
   },
   "outputs": [],
   "source": [
    "preds = clf.predict(X_test_tf)"
   ]
  },
  {
   "cell_type": "code",
   "execution_count": 244,
   "id": "3a6e0dbe-1338-4f86-9753-ac80a4edeaf0",
   "metadata": {
    "id": "3a6e0dbe-1338-4f86-9753-ac80a4edeaf0",
    "outputId": "e7139610-5716-4621-9658-a4fa4e8ed8c1"
   },
   "outputs": [
    {
     "name": "stdout",
     "output_type": "stream",
     "text": [
      "              precision    recall  f1-score   support\n",
      "\n",
      "           0       0.91      0.88      0.89      4961\n",
      "           1       0.89      0.91      0.90      5039\n",
      "\n",
      "    accuracy                           0.90     10000\n",
      "   macro avg       0.90      0.90      0.90     10000\n",
      "weighted avg       0.90      0.90      0.90     10000\n",
      "\n"
     ]
    }
   ],
   "source": [
    "from sklearn.metrics import classification_report\n",
    "print(classification_report(y_test, preds))"
   ]
  },
  {
   "cell_type": "code",
   "execution_count": 153,
   "id": "d922f342-6da2-4fa3-a888-af343db205e1",
   "metadata": {},
   "outputs": [],
   "source": [
    "joblib.dump(clf, open('data/logreg.joblib', 'wb'))"
   ]
  },
  {
   "cell_type": "code",
   "execution_count": 140,
   "id": "090c0011-90c9-4e64-9a61-e0c04040baf5",
   "metadata": {},
   "outputs": [
    {
     "data": {
      "text/plain": [
       "92858"
      ]
     },
     "execution_count": 140,
     "metadata": {},
     "output_type": "execute_result"
    }
   ],
   "source": [
    "vocab_names = vectorizer.get_feature_names()\n",
    "len(vocab_names)"
   ]
  },
  {
   "cell_type": "code",
   "execution_count": 180,
   "id": "3689de15-68e5-4fc3-b059-a23cd0d022c0",
   "metadata": {},
   "outputs": [
    {
     "name": "stdout",
     "output_type": "stream",
     "text": [
      "0.8957\n"
     ]
    }
   ],
   "source": [
    "from sklearn.model_selection import cross_val_score, KFold\n",
    "cv = KFold(n_splits=10, shuffle=True, random_state=42)\n",
    "X, y = X_train_tf, y_train\n",
    "cv_score = cross_val_score(clf, X, y, cv=cv)\n",
    "print(np.mean(cv_score))"
   ]
  },
  {
   "cell_type": "code",
   "execution_count": 181,
   "id": "2d24ad43-fa71-45c8-8f45-dbf0349cc488",
   "metadata": {},
   "outputs": [
    {
     "data": {
      "text/plain": [
       "array([0.896  , 0.89625, 0.89   , 0.905  , 0.90275, 0.893  , 0.89475,\n",
       "       0.89125, 0.89925, 0.88875])"
      ]
     },
     "execution_count": 181,
     "metadata": {},
     "output_type": "execute_result"
    }
   ],
   "source": [
    "cv_score"
   ]
  },
  {
   "cell_type": "markdown",
   "id": "301ac9a2-d6e6-46c0-888c-2f22738bf9d0",
   "metadata": {},
   "source": [
    "# Checking wrong predictions"
   ]
  },
  {
   "cell_type": "code",
   "execution_count": 321,
   "id": "c62fad88-39dc-4490-a3c3-460ae26fef13",
   "metadata": {},
   "outputs": [],
   "source": [
    "wrong_preds = y_test[y_test != preds]"
   ]
  },
  {
   "cell_type": "code",
   "execution_count": 322,
   "id": "31817e7e-439f-45cb-932f-3809f1f651c5",
   "metadata": {},
   "outputs": [
    {
     "data": {
      "text/plain": [
       "33553    1\n",
       "49498    1\n",
       "6113     1\n",
       "15118    1\n",
       "13466    1\n",
       "Name: sentiment, dtype: int64"
      ]
     },
     "execution_count": 322,
     "metadata": {},
     "output_type": "execute_result"
    }
   ],
   "source": [
    "wrong_preds.head()"
   ]
  },
  {
   "cell_type": "code",
   "execution_count": 313,
   "id": "b949b948-8097-4fa4-b7c0-d06503ceb618",
   "metadata": {},
   "outputs": [
    {
     "data": {
      "text/plain": [
       "0    589\n",
       "1    439\n",
       "Name: sentiment, dtype: int64"
      ]
     },
     "execution_count": 313,
     "metadata": {},
     "output_type": "execute_result"
    }
   ],
   "source": [
    "wrong_preds.value_counts()"
   ]
  },
  {
   "cell_type": "code",
   "execution_count": 332,
   "id": "2d4a1860-6c7b-4878-91e7-68a7cc70a104",
   "metadata": {
    "colab": {
     "base_uri": "https://localhost:8080/"
    },
    "id": "vhDvU-ZyyJDq",
    "outputId": "e1ca6086-8095-409e-d857-038b90d35012"
   },
   "outputs": [
    {
     "name": "stdout",
     "output_type": "stream",
     "text": [
      "Review text:\n",
      "OhMyGAWD!!! THE MAGIC GARDEN is perhaps one of my most vivid '70s\n",
      "childhood memories. Two hippie chicks with ponytails, Carole and Paula\n",
      "would swing on swings, tell jokes they picked off the chuckle patch,\n",
      "dress up with costumes they found in a giant chest called The\n",
      "Storybox, and argue with a pesky pink squirrel named Sherlock that\n",
      "lived in one of their trees. They also could strum a mean acoustic\n",
      "guitar and sing a pretty melody. This was a great childhood show. Very\n",
      "70s feeling. But that's the problem: They don't MAKE shows like this\n",
      "anymore. Pity that. You could tell these two girls really had hearts\n",
      "of gold and loved kids, they were really sweet. MAGIC GARDEN is one of\n",
      "those shows that if they came out with a box set people WOULD buy it,\n",
      "because its such a MELLOW walk down Memory Lane.\n",
      "\n",
      "Actual    : positive\n",
      "Predicted : negative\n",
      "\n",
      "Review text:\n",
      "The Biggest one that bugs the hell out of me is that they say Zues\n",
      "takes DUTCH commands. But she is speaking German to him. The 2\n",
      "languishes are completely different, its like saying \"well he takes\n",
      "French commands\" and start talking Spanish.<br /><br />James Belushi\n",
      "gives more the feeling of being a comedy actor not a detective in the\n",
      "slightest. The role just doesn't fit him, even if its mend to be a\n",
      "comedy.<br /><br />To many stereotype/predicable stuff. Typical\n",
      "comment or comebacks.<br /><br />If you don't look at those things i\n",
      "think it could be a nice movie to watch if its ever on TV. But i\n",
      "wouldn't suggesting renting it.\n",
      "\n",
      "Actual    : negative\n",
      "Predicted : positive\n",
      "\n",
      "Review text:\n",
      "The problem with TV today is that people have been spoiled by \"lite\"\n",
      "TV viewing. This type of television show is the equivalent of elevator\n",
      "music or \"easy listening\" jazz. The typical viewers idea of\n",
      "\"continuity\" is remembering who got voted off the island last week and\n",
      "wondering who will be the next to go. Show them a program like\n",
      "surface, Firefly, Dr. Who, or anything with a plot arc of more than\n",
      "three episodes and...well, they'll just flip back to Survivor.<br\n",
      "/><br />95% of the sheep watching TV don't want to rack their brains.\n",
      "They want excuses to not think. They want to make sure the \"boob tube\"\n",
      "lives up to its name...and they don't want shows that try and go any\n",
      "other route. Because of this, Surface and many other high-quality\n",
      "shows that should have lasted far longer have gotten the axe.<br /><br\n",
      "/>TV viewers don't want stories, or morals, or philosophy, or anything\n",
      "over a third grade vocabulary level. They want people eating\n",
      "earthworms, or over-dramatized \"real life\" series (no such thing! You\n",
      "cannot observe something without changing the very nature of what you\n",
      "observe) or hormonal shows involving groups of people having trysts\n",
      "and then bragging about it to their friends.<br /><br />Today's\n",
      "television is nothing but a wasteland, and the few diamonds you can\n",
      "pick out of the dust are just tossed out because no one even knows\n",
      "what a diamond is anymore. Surface was one of those diamonds.\n",
      "\n",
      "Actual    : positive\n",
      "Predicted : negative\n",
      "\n"
     ]
    }
   ],
   "source": [
    "number_of_reviews = 3\n",
    "indices = [random.choice(wrong_preds.index) for _ in range(number_of_reviews)]\n",
    "\n",
    "for idx in indices:\n",
    "    txt, target = df.loc[idx]\n",
    "    txt = np.array([txt])\n",
    "    txt_tf = vectorizer.transform(txt)\n",
    "    pred_one = clf.predict(txt_tf)[0]\n",
    "    sentiment = class_names[pred_one]\n",
    "    wrapped_txt = \"\\n\".join(wrap(txt[0]))\n",
    "\n",
    "    print(f'Review text:\\n{wrapped_txt}\\n')\n",
    "    print(f'Actual    : {class_names[target]}')\n",
    "    print(f'Predicted : {sentiment}\\n')\n",
    "    # break"
   ]
  },
  {
   "cell_type": "markdown",
   "id": "41d00353-a076-474e-8fb1-53fa7827d027",
   "metadata": {},
   "source": [
    "## Model Interpretation with ELI5"
   ]
  },
  {
   "cell_type": "code",
   "execution_count": 141,
   "id": "da6915dc-fb9c-4992-8d73-9e99955de5a8",
   "metadata": {},
   "outputs": [
    {
     "data": {
      "text/html": [
       "\n",
       "    <style>\n",
       "    table.eli5-weights tr:hover {\n",
       "        filter: brightness(85%);\n",
       "    }\n",
       "</style>\n",
       "\n",
       "\n",
       "\n",
       "    \n",
       "\n",
       "    \n",
       "\n",
       "    \n",
       "\n",
       "    \n",
       "\n",
       "    \n",
       "\n",
       "    \n",
       "\n",
       "\n",
       "    \n",
       "\n",
       "    \n",
       "\n",
       "    \n",
       "\n",
       "    \n",
       "        \n",
       "\n",
       "    \n",
       "\n",
       "        \n",
       "            \n",
       "                \n",
       "                \n",
       "    \n",
       "        <p style=\"margin-bottom: 0.5em; margin-top: 0em\">\n",
       "            <b>\n",
       "    \n",
       "        y=1\n",
       "    \n",
       "</b>\n",
       "\n",
       "top features\n",
       "        </p>\n",
       "    \n",
       "    <table class=\"eli5-weights\"\n",
       "           style=\"border-collapse: collapse; border: none; margin-top: 0em; table-layout: auto; margin-bottom: 2em;\">\n",
       "        <thead>\n",
       "        <tr style=\"border: none;\">\n",
       "            \n",
       "                <th style=\"padding: 0 1em 0 0.5em; text-align: right; border: none;\" title=\"Feature weights. Note that weights do not account for feature value scales, so if feature values have different scales, features with highest weights might not be the most important.\">\n",
       "                    Weight<sup>?</sup>\n",
       "                </th>\n",
       "            \n",
       "            <th style=\"padding: 0 0.5em 0 0.5em; text-align: left; border: none;\">Feature</th>\n",
       "            \n",
       "        </tr>\n",
       "        </thead>\n",
       "        <tbody>\n",
       "        \n",
       "            <tr style=\"background-color: hsl(120, 100.00%, 83.30%); border: none;\">\n",
       "    <td style=\"padding: 0 1em 0 0.5em; text-align: right; border: none;\">\n",
       "        +8.313\n",
       "    </td>\n",
       "    <td style=\"padding: 0 0.5em 0 0.5em; text-align: left; border: none;\">\n",
       "        great\n",
       "    </td>\n",
       "    \n",
       "</tr>\n",
       "        \n",
       "            <tr style=\"background-color: hsl(120, 100.00%, 84.72%); border: none;\">\n",
       "    <td style=\"padding: 0 1em 0 0.5em; text-align: right; border: none;\">\n",
       "        +7.328\n",
       "    </td>\n",
       "    <td style=\"padding: 0 0.5em 0 0.5em; text-align: left; border: none;\">\n",
       "        excellent\n",
       "    </td>\n",
       "    \n",
       "</tr>\n",
       "        \n",
       "            <tr style=\"background-color: hsl(120, 100.00%, 87.23%); border: none;\">\n",
       "    <td style=\"padding: 0 1em 0 0.5em; text-align: right; border: none;\">\n",
       "        +5.671\n",
       "    </td>\n",
       "    <td style=\"padding: 0 0.5em 0 0.5em; text-align: left; border: none;\">\n",
       "        best\n",
       "    </td>\n",
       "    \n",
       "</tr>\n",
       "        \n",
       "            <tr style=\"background-color: hsl(120, 100.00%, 87.51%); border: none;\">\n",
       "    <td style=\"padding: 0 1em 0 0.5em; text-align: right; border: none;\">\n",
       "        +5.494\n",
       "    </td>\n",
       "    <td style=\"padding: 0 0.5em 0 0.5em; text-align: left; border: none;\">\n",
       "        wonderful\n",
       "    </td>\n",
       "    \n",
       "</tr>\n",
       "        \n",
       "            <tr style=\"background-color: hsl(120, 100.00%, 87.77%); border: none;\">\n",
       "    <td style=\"padding: 0 1em 0 0.5em; text-align: right; border: none;\">\n",
       "        +5.327\n",
       "    </td>\n",
       "    <td style=\"padding: 0 0.5em 0 0.5em; text-align: left; border: none;\">\n",
       "        perfect\n",
       "    </td>\n",
       "    \n",
       "</tr>\n",
       "        \n",
       "            <tr style=\"background-color: hsl(120, 100.00%, 88.31%); border: none;\">\n",
       "    <td style=\"padding: 0 1em 0 0.5em; text-align: right; border: none;\">\n",
       "        +4.997\n",
       "    </td>\n",
       "    <td style=\"padding: 0 0.5em 0 0.5em; text-align: left; border: none;\">\n",
       "        amazing\n",
       "    </td>\n",
       "    \n",
       "</tr>\n",
       "        \n",
       "            <tr style=\"background-color: hsl(120, 100.00%, 88.56%); border: none;\">\n",
       "    <td style=\"padding: 0 1em 0 0.5em; text-align: right; border: none;\">\n",
       "        +4.846\n",
       "    </td>\n",
       "    <td style=\"padding: 0 0.5em 0 0.5em; text-align: left; border: none;\">\n",
       "        brilliant\n",
       "    </td>\n",
       "    \n",
       "</tr>\n",
       "        \n",
       "            <tr style=\"background-color: hsl(120, 100.00%, 88.94%); border: none;\">\n",
       "    <td style=\"padding: 0 1em 0 0.5em; text-align: right; border: none;\">\n",
       "        +4.616\n",
       "    </td>\n",
       "    <td style=\"padding: 0 0.5em 0 0.5em; text-align: left; border: none;\">\n",
       "        loved\n",
       "    </td>\n",
       "    \n",
       "</tr>\n",
       "        \n",
       "            <tr style=\"background-color: hsl(120, 100.00%, 89.12%); border: none;\">\n",
       "    <td style=\"padding: 0 1em 0 0.5em; text-align: right; border: none;\">\n",
       "        +4.510\n",
       "    </td>\n",
       "    <td style=\"padding: 0 0.5em 0 0.5em; text-align: left; border: none;\">\n",
       "        favorite\n",
       "    </td>\n",
       "    \n",
       "</tr>\n",
       "        \n",
       "            <tr style=\"background-color: hsl(120, 100.00%, 89.25%); border: none;\">\n",
       "    <td style=\"padding: 0 1em 0 0.5em; text-align: right; border: none;\">\n",
       "        +4.434\n",
       "    </td>\n",
       "    <td style=\"padding: 0 0.5em 0 0.5em; text-align: left; border: none;\">\n",
       "        enjoyed\n",
       "    </td>\n",
       "    \n",
       "</tr>\n",
       "        \n",
       "            <tr style=\"background-color: hsl(120, 100.00%, 89.30%); border: none;\">\n",
       "    <td style=\"padding: 0 1em 0 0.5em; text-align: right; border: none;\">\n",
       "        +4.404\n",
       "    </td>\n",
       "    <td style=\"padding: 0 0.5em 0 0.5em; text-align: left; border: none;\">\n",
       "        well\n",
       "    </td>\n",
       "    \n",
       "</tr>\n",
       "        \n",
       "            <tr style=\"background-color: hsl(120, 100.00%, 89.39%); border: none;\">\n",
       "    <td style=\"padding: 0 1em 0 0.5em; text-align: right; border: none;\">\n",
       "        +4.352\n",
       "    </td>\n",
       "    <td style=\"padding: 0 0.5em 0 0.5em; text-align: left; border: none;\">\n",
       "        love\n",
       "    </td>\n",
       "    \n",
       "</tr>\n",
       "        \n",
       "            <tr style=\"background-color: hsl(120, 100.00%, 89.41%); border: none;\">\n",
       "    <td style=\"padding: 0 1em 0 0.5em; text-align: right; border: none;\">\n",
       "        +4.337\n",
       "    </td>\n",
       "    <td style=\"padding: 0 0.5em 0 0.5em; text-align: left; border: none;\">\n",
       "        highly\n",
       "    </td>\n",
       "    \n",
       "</tr>\n",
       "        \n",
       "            <tr style=\"background-color: hsl(120, 100.00%, 89.57%); border: none;\">\n",
       "    <td style=\"padding: 0 1em 0 0.5em; text-align: right; border: none;\">\n",
       "        +4.245\n",
       "    </td>\n",
       "    <td style=\"padding: 0 0.5em 0 0.5em; text-align: left; border: none;\">\n",
       "        hilarious\n",
       "    </td>\n",
       "    \n",
       "</tr>\n",
       "        \n",
       "            <tr style=\"background-color: hsl(120, 100.00%, 89.65%); border: none;\">\n",
       "    <td style=\"padding: 0 1em 0 0.5em; text-align: right; border: none;\">\n",
       "        +4.201\n",
       "    </td>\n",
       "    <td style=\"padding: 0 0.5em 0 0.5em; text-align: left; border: none;\">\n",
       "        today\n",
       "    </td>\n",
       "    \n",
       "</tr>\n",
       "        \n",
       "            <tr style=\"background-color: hsl(120, 100.00%, 89.77%); border: none;\">\n",
       "    <td style=\"padding: 0 1em 0 0.5em; text-align: right; border: none;\">\n",
       "        +4.128\n",
       "    </td>\n",
       "    <td style=\"padding: 0 0.5em 0 0.5em; text-align: left; border: none;\">\n",
       "        fun\n",
       "    </td>\n",
       "    \n",
       "</tr>\n",
       "        \n",
       "            <tr style=\"background-color: hsl(120, 100.00%, 90.01%); border: none;\">\n",
       "    <td style=\"padding: 0 1em 0 0.5em; text-align: right; border: none;\">\n",
       "        +3.991\n",
       "    </td>\n",
       "    <td style=\"padding: 0 0.5em 0 0.5em; text-align: left; border: none;\">\n",
       "        definitely\n",
       "    </td>\n",
       "    \n",
       "</tr>\n",
       "        \n",
       "            <tr style=\"background-color: hsl(120, 100.00%, 90.08%); border: none;\">\n",
       "    <td style=\"padding: 0 1em 0 0.5em; text-align: right; border: none;\">\n",
       "        +3.954\n",
       "    </td>\n",
       "    <td style=\"padding: 0 0.5em 0 0.5em; text-align: left; border: none;\">\n",
       "        superb\n",
       "    </td>\n",
       "    \n",
       "</tr>\n",
       "        \n",
       "            <tr style=\"background-color: hsl(120, 100.00%, 90.27%); border: none;\">\n",
       "    <td style=\"padding: 0 1em 0 0.5em; text-align: right; border: none;\">\n",
       "        +3.844\n",
       "    </td>\n",
       "    <td style=\"padding: 0 0.5em 0 0.5em; text-align: left; border: none;\">\n",
       "        enjoyable\n",
       "    </td>\n",
       "    \n",
       "</tr>\n",
       "        \n",
       "            <tr style=\"background-color: hsl(120, 100.00%, 90.29%); border: none;\">\n",
       "    <td style=\"padding: 0 1em 0 0.5em; text-align: right; border: none;\">\n",
       "        +3.832\n",
       "    </td>\n",
       "    <td style=\"padding: 0 0.5em 0 0.5em; text-align: left; border: none;\">\n",
       "        fantastic\n",
       "    </td>\n",
       "    \n",
       "</tr>\n",
       "        \n",
       "        \n",
       "            <tr style=\"background-color: hsl(120, 100.00%, 90.29%); border: none;\">\n",
       "                <td colspan=\"2\" style=\"padding: 0 0.5em 0 0.5em; text-align: center; border: none; white-space: nowrap;\">\n",
       "                    <i>&hellip; 47552 more positive &hellip;</i>\n",
       "                </td>\n",
       "            </tr>\n",
       "        \n",
       "\n",
       "        \n",
       "            <tr style=\"background-color: hsl(0, 100.00%, 89.47%); border: none;\">\n",
       "                <td colspan=\"2\" style=\"padding: 0 0.5em 0 0.5em; text-align: center; border: none; white-space: nowrap;\">\n",
       "                    <i>&hellip; 45267 more negative &hellip;</i>\n",
       "                </td>\n",
       "            </tr>\n",
       "        \n",
       "        \n",
       "            <tr style=\"background-color: hsl(0, 100.00%, 89.47%); border: none;\">\n",
       "    <td style=\"padding: 0 1em 0 0.5em; text-align: right; border: none;\">\n",
       "        -4.302\n",
       "    </td>\n",
       "    <td style=\"padding: 0 0.5em 0 0.5em; text-align: left; border: none;\">\n",
       "        annoying\n",
       "    </td>\n",
       "    \n",
       "</tr>\n",
       "        \n",
       "            <tr style=\"background-color: hsl(0, 100.00%, 89.31%); border: none;\">\n",
       "    <td style=\"padding: 0 1em 0 0.5em; text-align: right; border: none;\">\n",
       "        -4.395\n",
       "    </td>\n",
       "    <td style=\"padding: 0 0.5em 0 0.5em; text-align: left; border: none;\">\n",
       "        disappointing\n",
       "    </td>\n",
       "    \n",
       "</tr>\n",
       "        \n",
       "            <tr style=\"background-color: hsl(0, 100.00%, 89.28%); border: none;\">\n",
       "    <td style=\"padding: 0 1em 0 0.5em; text-align: right; border: none;\">\n",
       "        -4.416\n",
       "    </td>\n",
       "    <td style=\"padding: 0 0.5em 0 0.5em; text-align: left; border: none;\">\n",
       "        unfortunately\n",
       "    </td>\n",
       "    \n",
       "</tr>\n",
       "        \n",
       "            <tr style=\"background-color: hsl(0, 100.00%, 89.22%); border: none;\">\n",
       "    <td style=\"padding: 0 1em 0 0.5em; text-align: right; border: none;\">\n",
       "        -4.449\n",
       "    </td>\n",
       "    <td style=\"padding: 0 0.5em 0 0.5em; text-align: left; border: none;\">\n",
       "        disappointment\n",
       "    </td>\n",
       "    \n",
       "</tr>\n",
       "        \n",
       "            <tr style=\"background-color: hsl(0, 100.00%, 89.22%); border: none;\">\n",
       "    <td style=\"padding: 0 1em 0 0.5em; text-align: right; border: none;\">\n",
       "        -4.452\n",
       "    </td>\n",
       "    <td style=\"padding: 0 0.5em 0 0.5em; text-align: left; border: none;\">\n",
       "        script\n",
       "    </td>\n",
       "    \n",
       "</tr>\n",
       "        \n",
       "            <tr style=\"background-color: hsl(0, 100.00%, 89.16%); border: none;\">\n",
       "    <td style=\"padding: 0 1em 0 0.5em; text-align: right; border: none;\">\n",
       "        -4.487\n",
       "    </td>\n",
       "    <td style=\"padding: 0 0.5em 0 0.5em; text-align: left; border: none;\">\n",
       "        fails\n",
       "    </td>\n",
       "    \n",
       "</tr>\n",
       "        \n",
       "            <tr style=\"background-color: hsl(0, 100.00%, 88.74%); border: none;\">\n",
       "    <td style=\"padding: 0 1em 0 0.5em; text-align: right; border: none;\">\n",
       "        -4.737\n",
       "    </td>\n",
       "    <td style=\"padding: 0 0.5em 0 0.5em; text-align: left; border: none;\">\n",
       "        minutes\n",
       "    </td>\n",
       "    \n",
       "</tr>\n",
       "        \n",
       "            <tr style=\"background-color: hsl(0, 100.00%, 88.71%); border: none;\">\n",
       "    <td style=\"padding: 0 1em 0 0.5em; text-align: right; border: none;\">\n",
       "        -4.753\n",
       "    </td>\n",
       "    <td style=\"padding: 0 0.5em 0 0.5em; text-align: left; border: none;\">\n",
       "        supposed\n",
       "    </td>\n",
       "    \n",
       "</tr>\n",
       "        \n",
       "            <tr style=\"background-color: hsl(0, 100.00%, 88.34%); border: none;\">\n",
       "    <td style=\"padding: 0 1em 0 0.5em; text-align: right; border: none;\">\n",
       "        -4.975\n",
       "    </td>\n",
       "    <td style=\"padding: 0 0.5em 0 0.5em; text-align: left; border: none;\">\n",
       "        poorly\n",
       "    </td>\n",
       "    \n",
       "</tr>\n",
       "        \n",
       "            <tr style=\"background-color: hsl(0, 100.00%, 88.32%); border: none;\">\n",
       "    <td style=\"padding: 0 1em 0 0.5em; text-align: right; border: none;\">\n",
       "        -4.991\n",
       "    </td>\n",
       "    <td style=\"padding: 0 0.5em 0 0.5em; text-align: left; border: none;\">\n",
       "        horrible\n",
       "    </td>\n",
       "    \n",
       "</tr>\n",
       "        \n",
       "            <tr style=\"background-color: hsl(0, 100.00%, 88.32%); border: none;\">\n",
       "    <td style=\"padding: 0 1em 0 0.5em; text-align: right; border: none;\">\n",
       "        -4.992\n",
       "    </td>\n",
       "    <td style=\"padding: 0 0.5em 0 0.5em; text-align: left; border: none;\">\n",
       "        dull\n",
       "    </td>\n",
       "    \n",
       "</tr>\n",
       "        \n",
       "            <tr style=\"background-color: hsl(0, 100.00%, 88.00%); border: none;\">\n",
       "    <td style=\"padding: 0 1em 0 0.5em; text-align: right; border: none;\">\n",
       "        -5.189\n",
       "    </td>\n",
       "    <td style=\"padding: 0 0.5em 0 0.5em; text-align: left; border: none;\">\n",
       "        worse\n",
       "    </td>\n",
       "    \n",
       "</tr>\n",
       "        \n",
       "            <tr style=\"background-color: hsl(0, 100.00%, 86.53%); border: none;\">\n",
       "    <td style=\"padding: 0 1em 0 0.5em; text-align: right; border: none;\">\n",
       "        -6.115\n",
       "    </td>\n",
       "    <td style=\"padding: 0 0.5em 0 0.5em; text-align: left; border: none;\">\n",
       "        nothing\n",
       "    </td>\n",
       "    \n",
       "</tr>\n",
       "        \n",
       "            <tr style=\"background-color: hsl(0, 100.00%, 86.31%); border: none;\">\n",
       "    <td style=\"padding: 0 1em 0 0.5em; text-align: right; border: none;\">\n",
       "        -6.263\n",
       "    </td>\n",
       "    <td style=\"padding: 0 0.5em 0 0.5em; text-align: left; border: none;\">\n",
       "        terrible\n",
       "    </td>\n",
       "    \n",
       "</tr>\n",
       "        \n",
       "            <tr style=\"background-color: hsl(0, 100.00%, 85.96%); border: none;\">\n",
       "    <td style=\"padding: 0 1em 0 0.5em; text-align: right; border: none;\">\n",
       "        -6.488\n",
       "    </td>\n",
       "    <td style=\"padding: 0 0.5em 0 0.5em; text-align: left; border: none;\">\n",
       "        poor\n",
       "    </td>\n",
       "    \n",
       "</tr>\n",
       "        \n",
       "            <tr style=\"background-color: hsl(0, 100.00%, 84.72%); border: none;\">\n",
       "    <td style=\"padding: 0 1em 0 0.5em; text-align: right; border: none;\">\n",
       "        -7.325\n",
       "    </td>\n",
       "    <td style=\"padding: 0 0.5em 0 0.5em; text-align: left; border: none;\">\n",
       "        boring\n",
       "    </td>\n",
       "    \n",
       "</tr>\n",
       "        \n",
       "            <tr style=\"background-color: hsl(0, 100.00%, 83.94%); border: none;\">\n",
       "    <td style=\"padding: 0 1em 0 0.5em; text-align: right; border: none;\">\n",
       "        -7.861\n",
       "    </td>\n",
       "    <td style=\"padding: 0 0.5em 0 0.5em; text-align: left; border: none;\">\n",
       "        awful\n",
       "    </td>\n",
       "    \n",
       "</tr>\n",
       "        \n",
       "            <tr style=\"background-color: hsl(0, 100.00%, 83.84%); border: none;\">\n",
       "    <td style=\"padding: 0 1em 0 0.5em; text-align: right; border: none;\">\n",
       "        -7.933\n",
       "    </td>\n",
       "    <td style=\"padding: 0 0.5em 0 0.5em; text-align: left; border: none;\">\n",
       "        waste\n",
       "    </td>\n",
       "    \n",
       "</tr>\n",
       "        \n",
       "            <tr style=\"background-color: hsl(0, 100.00%, 83.13%); border: none;\">\n",
       "    <td style=\"padding: 0 1em 0 0.5em; text-align: right; border: none;\">\n",
       "        -8.438\n",
       "    </td>\n",
       "    <td style=\"padding: 0 0.5em 0 0.5em; text-align: left; border: none;\">\n",
       "        bad\n",
       "    </td>\n",
       "    \n",
       "</tr>\n",
       "        \n",
       "            <tr style=\"background-color: hsl(0, 100.00%, 80.00%); border: none;\">\n",
       "    <td style=\"padding: 0 1em 0 0.5em; text-align: right; border: none;\">\n",
       "        -10.759\n",
       "    </td>\n",
       "    <td style=\"padding: 0 0.5em 0 0.5em; text-align: left; border: none;\">\n",
       "        worst\n",
       "    </td>\n",
       "    \n",
       "</tr>\n",
       "        \n",
       "\n",
       "        </tbody>\n",
       "    </table>\n",
       "\n",
       "            \n",
       "        \n",
       "\n",
       "        \n",
       "\n",
       "\n",
       "\n",
       "    \n",
       "\n",
       "    \n",
       "\n",
       "    \n",
       "\n",
       "    \n",
       "\n",
       "\n",
       "    \n",
       "\n",
       "    \n",
       "\n",
       "    \n",
       "\n",
       "    \n",
       "\n",
       "    \n",
       "\n",
       "    \n",
       "\n",
       "\n",
       "    \n",
       "\n",
       "    \n",
       "\n",
       "    \n",
       "\n",
       "    \n",
       "\n",
       "    \n",
       "\n",
       "    \n",
       "\n",
       "\n",
       "\n"
      ],
      "text/plain": [
       "<IPython.core.display.HTML object>"
      ]
     },
     "execution_count": 141,
     "metadata": {},
     "output_type": "execute_result"
    }
   ],
   "source": [
    "import eli5\n",
    "\n",
    "eli5.show_weights(estimator=clf, \n",
    "                  feature_names=vocab_names,\n",
    "                  top=(20,20))"
   ]
  },
  {
   "cell_type": "markdown",
   "id": "d89a5361-ff2e-4e67-9f4f-791ed0a362b6",
   "metadata": {},
   "source": [
    "## Tuning"
   ]
  },
  {
   "cell_type": "code",
   "execution_count": 147,
   "id": "da5da106-b1b1-4063-8983-c5e6fdd5379f",
   "metadata": {},
   "outputs": [
    {
     "data": {
      "text/plain": [
       "{'C': 1.0,\n",
       " 'class_weight': None,\n",
       " 'dual': False,\n",
       " 'fit_intercept': True,\n",
       " 'intercept_scaling': 1,\n",
       " 'l1_ratio': None,\n",
       " 'max_iter': 100,\n",
       " 'multi_class': 'auto',\n",
       " 'n_jobs': None,\n",
       " 'penalty': 'l2',\n",
       " 'random_state': 42,\n",
       " 'solver': 'lbfgs',\n",
       " 'tol': 0.0001,\n",
       " 'verbose': 0,\n",
       " 'warm_start': False}"
      ]
     },
     "execution_count": 147,
     "metadata": {},
     "output_type": "execute_result"
    }
   ],
   "source": [
    "clf.get_params()"
   ]
  },
  {
   "cell_type": "code",
   "execution_count": 157,
   "id": "b035c601-f88d-47ab-8769-1f09012e1b1e",
   "metadata": {},
   "outputs": [],
   "source": [
    "from sklearn.model_selection import RepeatedStratifiedKFold\n",
    "from sklearn.model_selection import GridSearchCV\n",
    "\n",
    "solvers = ['newton-cg', 'lbfgs']\n",
    "penalty = ['l2']\n",
    "c_values = [100, 10, 1.0, 0.1, 0.01]\n",
    "\n",
    "\n",
    "param_grid = dict(solver=solvers,penalty=penalty,C=c_values)\n",
    "cv = RepeatedStratifiedKFold(n_splits=10, n_repeats=3, random_state=1)\n",
    "grid_search = GridSearchCV(estimator=clf, param_grid=param_grid, \n",
    "                           n_jobs=10, cv=cv, scoring='accuracy',\n",
    "                           error_score=0, refit=True, verbose=3\n",
    "                          )\n",
    "grid_result = grid_search.fit(X_train_tf, y_train)\n",
    "\n",
    "\n",
    "print(\"Best: %f using %s\" % (grid_result.best_score_, grid_result.best_params_))\n",
    "means = grid_result.cv_results_['mean_test_score']\n",
    "stds = grid_result.cv_results_['std_test_score']\n",
    "params = grid_result.cv_results_['params']\n",
    "for mean, stdev, param in zip(means, stds, params):\n",
    "    print(\"%f (%f) with: %r\" % (mean, stdev, param))"
   ]
  },
  {
   "cell_type": "code",
   "execution_count": 158,
   "id": "83aa1dcb-e2ff-4622-9cc3-745acb710971",
   "metadata": {},
   "outputs": [
    {
     "name": "stdout",
     "output_type": "stream",
     "text": [
      "Best: 0.897575 using {'C': 10, 'penalty': 'l2', 'solver': 'newton-cg'}\n",
      "Test score -> 0.8986\n"
     ]
    }
   ],
   "source": [
    "print(\"Best: %f using %s\" % (grid_result.best_score_, grid_result.best_params_))\n",
    "print(f'Test score -> {grid_result.score(X_test_tf, y_test)}')"
   ]
  },
  {
   "cell_type": "markdown",
   "id": "e81b47f5-65c6-4b3b-b5db-7a43d12a16c8",
   "metadata": {},
   "source": [
    "## Other models"
   ]
  },
  {
   "cell_type": "code",
   "execution_count": null,
   "id": "2e5cebe0-9187-4bcd-b23c-6b810e46296a",
   "metadata": {
    "id": "2e5cebe0-9187-4bcd-b23c-6b810e46296a",
    "outputId": "f0bf34b0-035e-4bef-a170-93530d722251"
   },
   "outputs": [
    {
     "data": {
      "text/plain": [
       "RandomForestClassifier(n_jobs=10, random_state=42)"
      ]
     },
     "execution_count": 45,
     "metadata": {
      "tags": []
     },
     "output_type": "execute_result"
    }
   ],
   "source": [
    "from sklearn.ensemble import RandomForestClassifier\n",
    "\n",
    "clf = RandomForestClassifier(n_jobs=10, random_state=42)\n",
    "clf.fit(X_train_tf, y_train)"
   ]
  },
  {
   "cell_type": "code",
   "execution_count": null,
   "id": "82a4c363-8baa-4768-8a44-24cf1feedeb9",
   "metadata": {
    "id": "82a4c363-8baa-4768-8a44-24cf1feedeb9",
    "outputId": "8fb8f0f4-3072-48c7-dad0-51c6ccd1d55c"
   },
   "outputs": [
    {
     "name": "stdout",
     "output_type": "stream",
     "text": [
      "Mean tree depth in the Random Forest: 315.0\n"
     ]
    }
   ],
   "source": [
    "depths = [tree.tree_.max_depth for tree in clf.estimators_]\n",
    "print(f\"Mean tree depth in the Random Forest: {np.round(np.mean(depths))}\")"
   ]
  },
  {
   "cell_type": "code",
   "execution_count": null,
   "id": "43ff1ba5-b11c-46cc-8d45-4089d5ef511a",
   "metadata": {
    "id": "43ff1ba5-b11c-46cc-8d45-4089d5ef511a",
    "outputId": "79a7ac1a-8f39-4493-b21d-1c7528cd6821"
   },
   "outputs": [
    {
     "data": {
      "text/plain": [
       "0.8595"
      ]
     },
     "execution_count": 59,
     "metadata": {
      "tags": []
     },
     "output_type": "execute_result"
    }
   ],
   "source": [
    "clf.score(X_test_tf, y_test)"
   ]
  },
  {
   "cell_type": "code",
   "execution_count": null,
   "id": "4cee521b-9bcb-4d55-89a5-ee59602bba5a",
   "metadata": {
    "id": "4cee521b-9bcb-4d55-89a5-ee59602bba5a"
   },
   "outputs": [],
   "source": [
    "pred = clf.predict(X_test_tf)"
   ]
  },
  {
   "cell_type": "code",
   "execution_count": null,
   "id": "5a821472-e2d3-43ab-88ca-5cb14a9149e8",
   "metadata": {
    "id": "5a821472-e2d3-43ab-88ca-5cb14a9149e8",
    "outputId": "7de14745-e889-4e80-cf7f-e5006f62e2be"
   },
   "outputs": [
    {
     "name": "stdout",
     "output_type": "stream",
     "text": [
      "              precision    recall  f1-score   support\n",
      "\n",
      "           0       0.85      0.87      0.86      4961\n",
      "           1       0.87      0.85      0.86      5039\n",
      "\n",
      "    accuracy                           0.86     10000\n",
      "   macro avg       0.86      0.86      0.86     10000\n",
      "weighted avg       0.86      0.86      0.86     10000\n",
      "\n"
     ]
    }
   ],
   "source": [
    "print(classification_report(y_test, pred))"
   ]
  },
  {
   "cell_type": "code",
   "execution_count": null,
   "id": "0f1e628d-900c-4606-87ce-3e5fec873946",
   "metadata": {
    "id": "0f1e628d-900c-4606-87ce-3e5fec873946"
   },
   "outputs": [],
   "source": [
    "from sklearn.svm import SVC\n",
    "\n",
    "clf = SVC(random_state=42)\n",
    "clf.fit(X_train_tf, y_train)"
   ]
  },
  {
   "cell_type": "code",
   "execution_count": null,
   "id": "f5fed5ee-9a9a-4d34-ba3e-7ffc881ab60e",
   "metadata": {
    "id": "f5fed5ee-9a9a-4d34-ba3e-7ffc881ab60e"
   },
   "outputs": [],
   "source": [
    "clf.score(X_test_tf, y_test)"
   ]
  },
  {
   "cell_type": "code",
   "execution_count": null,
   "id": "fe2bd276-2452-4b6d-b040-93aecdb210c4",
   "metadata": {
    "id": "fe2bd276-2452-4b6d-b040-93aecdb210c4"
   },
   "outputs": [],
   "source": [
    "from sklearn.naive_bayes import MultinomialNB\n",
    "\n",
    "clf = MultinomialNB()\n",
    "clf.fit(X_train_tf, y_train)"
   ]
  },
  {
   "cell_type": "code",
   "execution_count": null,
   "id": "5676e7f2-639f-4fee-8386-a41ef803adc5",
   "metadata": {
    "id": "5676e7f2-639f-4fee-8386-a41ef803adc5",
    "outputId": "a84d1f89-5b37-4c83-fc79-b0b1f167f2b6"
   },
   "outputs": [
    {
     "data": {
      "text/plain": [
       "0.8663"
      ]
     },
     "execution_count": 65,
     "metadata": {
      "tags": []
     },
     "output_type": "execute_result"
    }
   ],
   "source": [
    "clf.score(X_test_tf, y_test)"
   ]
  },
  {
   "cell_type": "markdown",
   "id": "fb0cf50f-b93b-4884-9251-cfba10cd83e9",
   "metadata": {
    "id": "fb0cf50f-b93b-4884-9251-cfba10cd83e9"
   },
   "source": [
    "# Deep learning model"
   ]
  },
  {
   "cell_type": "markdown",
   "id": "a0c98ad2-7b6d-4d14-a16b-adebc8744a34",
   "metadata": {
    "id": "a0c98ad2-7b6d-4d14-a16b-adebc8744a34"
   },
   "source": [
    "## Preprocessing"
   ]
  },
  {
   "cell_type": "code",
   "execution_count": 7,
   "id": "056d8319-271e-42fc-ac61-37d9236a0348",
   "metadata": {
    "id": "056d8319-271e-42fc-ac61-37d9236a0348"
   },
   "outputs": [],
   "source": [
    "PRETRAINED_MODEL_NAME = 'distilbert-base-uncased'"
   ]
  },
  {
   "cell_type": "code",
   "execution_count": 8,
   "id": "015620b4-028a-4ae5-91aa-ec600d2cea64",
   "metadata": {
    "id": "015620b4-028a-4ae5-91aa-ec600d2cea64"
   },
   "outputs": [],
   "source": [
    "from transformers import AutoTokenizer\n",
    "\n",
    "tokenizer = AutoTokenizer.from_pretrained(PRETRAINED_MODEL_NAME)"
   ]
  },
  {
   "cell_type": "code",
   "execution_count": 14,
   "id": "0fd5b11e-0bfb-4049-83fb-fe62591c30f4",
   "metadata": {
    "id": "0fd5b11e-0bfb-4049-83fb-fe62591c30f4"
   },
   "outputs": [],
   "source": [
    "sample_txt = 'Is this the real life? Is this just fantasy?'"
   ]
  },
  {
   "cell_type": "code",
   "execution_count": null,
   "id": "4471c08c-5af7-4e37-8a30-d32ff8f49db4",
   "metadata": {
    "colab": {
     "base_uri": "https://localhost:8080/"
    },
    "id": "4471c08c-5af7-4e37-8a30-d32ff8f49db4",
    "outputId": "8def6240-9fca-42c9-ca8b-19f66e8f81d2"
   },
   "outputs": [
    {
     "name": "stdout",
     "output_type": "stream",
     "text": [
      " Sentence: Is this the real life? Is this just fantasy?\n",
      "   Tokens: ['is', 'this', 'the', 'real', 'life', '?', 'is', 'this', 'just', 'fantasy', '?']\n",
      "Token IDs: [2003, 2023, 1996, 2613, 2166, 1029, 2003, 2023, 2074, 5913, 1029]\n"
     ]
    }
   ],
   "source": [
    "tokens = tokenizer.tokenize(sample_txt)\n",
    "token_ids = tokenizer.convert_tokens_to_ids(tokens)\n",
    "print(f' Sentence: {sample_txt}')\n",
    "print(f'   Tokens: {tokens}')\n",
    "print(f'Token IDs: {token_ids}')"
   ]
  },
  {
   "cell_type": "code",
   "execution_count": null,
   "id": "5b80dc66-7b77-476a-95f6-ba8a3fa95ed6",
   "metadata": {
    "colab": {
     "base_uri": "https://localhost:8080/"
    },
    "id": "5b80dc66-7b77-476a-95f6-ba8a3fa95ed6",
    "outputId": "7d2d91ca-3a3f-4242-bc56-e5df7550332b"
   },
   "outputs": [
    {
     "data": {
      "text/plain": [
       "[101, 2003, 2023, 1996, 2613, 2166, 1029, 2003, 2023, 2074, 5913, 1029, 102]"
      ]
     },
     "execution_count": 11,
     "metadata": {
      "tags": []
     },
     "output_type": "execute_result"
    }
   ],
   "source": [
    "tokenizer.encode(sample_txt)"
   ]
  },
  {
   "cell_type": "code",
   "execution_count": null,
   "id": "4e9a64fa-3483-409c-9de7-c82809cdd927",
   "metadata": {
    "colab": {
     "base_uri": "https://localhost:8080/"
    },
    "id": "4e9a64fa-3483-409c-9de7-c82809cdd927",
    "outputId": "8ccbd373-294e-4322-bd43-780b672b00f9"
   },
   "outputs": [
    {
     "data": {
      "text/plain": [
       "{'input_ids': tensor([[ 101, 2003, 2023, 1996, 2613, 2166, 1029, 2003, 2023, 2074, 5913, 1029,\n",
       "          102]]), 'attention_mask': tensor([[1, 1, 1, 1, 1, 1, 1, 1, 1, 1, 1, 1, 1]])}"
      ]
     },
     "execution_count": 12,
     "metadata": {
      "tags": []
     },
     "output_type": "execute_result"
    }
   ],
   "source": [
    "tokenizer(sample_txt, padding=True, truncation=True, return_tensors=\"pt\")"
   ]
  },
  {
   "cell_type": "code",
   "execution_count": null,
   "id": "c341ab3f-b988-4eac-acfd-b5c2dc1399d7",
   "metadata": {
    "id": "c341ab3f-b988-4eac-acfd-b5c2dc1399d7"
   },
   "outputs": [],
   "source": [
    "encoding = tokenizer.encode_plus(\n",
    "    sample_txt,\n",
    "    max_length=32,\n",
    "    add_special_tokens=True, # Add '[CLS]' and '[SEP]'\n",
    "    return_token_type_ids=False,\n",
    "    pad_to_max_length=True,\n",
    "    return_attention_mask=True,\n",
    "    truncation=True,\n",
    "    return_tensors='pt',  # Return PyTorch tensors\n",
    ")"
   ]
  },
  {
   "cell_type": "code",
   "execution_count": null,
   "id": "a80b1d05-909e-4a0d-b576-e3f179b4067d",
   "metadata": {
    "colab": {
     "base_uri": "https://localhost:8080/"
    },
    "id": "a80b1d05-909e-4a0d-b576-e3f179b4067d",
    "outputId": "77d16a21-7276-4cdd-cf42-e490a809bf52"
   },
   "outputs": [
    {
     "name": "stdout",
     "output_type": "stream",
     "text": [
      "32\n"
     ]
    },
    {
     "data": {
      "text/plain": [
       "tensor([ 101, 2003, 2023, 1996, 2613, 2166, 1029, 2003, 2023, 2074, 5913, 1029,\n",
       "         102,    0,    0,    0,    0,    0,    0,    0,    0,    0,    0,    0,\n",
       "           0,    0,    0,    0,    0,    0,    0,    0])"
      ]
     },
     "execution_count": 14,
     "metadata": {
      "tags": []
     },
     "output_type": "execute_result"
    }
   ],
   "source": [
    "print(len(encoding['input_ids'][0]))\n",
    "encoding['input_ids'][0]"
   ]
  },
  {
   "cell_type": "code",
   "execution_count": null,
   "id": "37921d01-6171-4efc-9b27-2f28f139db25",
   "metadata": {
    "colab": {
     "base_uri": "https://localhost:8080/"
    },
    "id": "37921d01-6171-4efc-9b27-2f28f139db25",
    "outputId": "4d1f8381-89ed-4c0b-c778-64a9b1c5eb3e"
   },
   "outputs": [
    {
     "name": "stdout",
     "output_type": "stream",
     "text": [
      "32\n"
     ]
    },
    {
     "data": {
      "text/plain": [
       "tensor([[1, 1, 1, 1, 1, 1, 1, 1, 1, 1, 1, 1, 1, 0, 0, 0, 0, 0, 0, 0, 0, 0, 0, 0,\n",
       "         0, 0, 0, 0, 0, 0, 0, 0]])"
      ]
     },
     "execution_count": 15,
     "metadata": {
      "tags": []
     },
     "output_type": "execute_result"
    }
   ],
   "source": [
    "print(len(encoding['attention_mask'][0]))\n",
    "encoding['attention_mask']"
   ]
  },
  {
   "cell_type": "code",
   "execution_count": null,
   "id": "0f8b546d-0d29-4f16-9192-d3fa9add2ce6",
   "metadata": {
    "colab": {
     "base_uri": "https://localhost:8080/"
    },
    "id": "0f8b546d-0d29-4f16-9192-d3fa9add2ce6",
    "outputId": "aeb49b84-b095-409c-933b-6e9a4ad4d12a"
   },
   "outputs": [
    {
     "name": "stdout",
     "output_type": "stream",
     "text": [
      "['[CLS]', 'is', 'this', 'the', 'real', 'life', '?', 'is', 'this', 'just', 'fantasy', '?', '[SEP]', '[PAD]', '[PAD]', '[PAD]', '[PAD]', '[PAD]', '[PAD]', '[PAD]', '[PAD]', '[PAD]', '[PAD]', '[PAD]', '[PAD]', '[PAD]', '[PAD]', '[PAD]', '[PAD]', '[PAD]', '[PAD]', '[PAD]']\n"
     ]
    }
   ],
   "source": [
    "print(tokenizer.convert_ids_to_tokens(encoding['input_ids'][0]))"
   ]
  },
  {
   "cell_type": "code",
   "execution_count": null,
   "id": "f2ecbece-50b5-4a37-a0cd-6eb7c5795265",
   "metadata": {
    "colab": {
     "base_uri": "https://localhost:8080/"
    },
    "id": "f2ecbece-50b5-4a37-a0cd-6eb7c5795265",
    "outputId": "3b8bc18e-f471-4636-8a71-2e8e86226d64"
   },
   "outputs": [
    {
     "name": "stderr",
     "output_type": "stream",
     "text": [
      "Truncation was not explicitly activated but `max_length` is provided a specific value, please use `truncation=True` to explicitly truncate examples to max length. Defaulting to 'longest_first' truncation strategy. If you encode pairs of sequences (GLUE-style) with the tokenizer you can select this strategy more precisely by providing a specific strategy to `truncation`.\n"
     ]
    }
   ],
   "source": [
    "token_lens = []\n",
    "for txt in df.review:\n",
    "    tokens = tokenizer.encode(txt, max_length=1024)\n",
    "    token_lens.append(len(tokens))"
   ]
  },
  {
   "cell_type": "code",
   "execution_count": null,
   "id": "10f2221d-9d3b-4f97-a9e6-16e35ffb07e4",
   "metadata": {
    "id": "10f2221d-9d3b-4f97-a9e6-16e35ffb07e4",
    "outputId": "6e47b030-7110-4eaf-947a-9ab3ec9fb2f5"
   },
   "outputs": [
    {
     "data": {
      "image/png": "[encoded data removed]",
      "text/plain": [
       "<Figure size 576x576 with 1 Axes>"
      ]
     },
     "metadata": {
      "tags": []
     },
     "output_type": "display_data"
    }
   ],
   "source": [
    "sns.distplot(token_lens)\n",
    "plt.xlim([0, 1024])\n",
    "plt.xlabel('Token count');"
   ]
  },
  {
   "cell_type": "code",
   "execution_count": null,
   "id": "03c71ff3-092a-4805-8c2b-0940e114e425",
   "metadata": {
    "colab": {
     "base_uri": "https://localhost:8080/"
    },
    "id": "03c71ff3-092a-4805-8c2b-0940e114e425",
    "outputId": "8776a7df-91d0-481b-8ef2-2ce8d8e69081"
   },
   "outputs": [
    {
     "data": {
      "text/plain": [
       "2470"
      ]
     },
     "execution_count": 18,
     "metadata": {
      "tags": []
     },
     "output_type": "execute_result"
    }
   ],
   "source": [
    "# max length of words in one review\n",
    "df.review.str.split().apply(len).max()"
   ]
  },
  {
   "cell_type": "code",
   "execution_count": 9,
   "id": "2288b1d5-cb4f-4ce9-9a50-6aaf1fdc038f",
   "metadata": {
    "id": "2288b1d5-cb4f-4ce9-9a50-6aaf1fdc038f"
   },
   "outputs": [],
   "source": [
    "# arbitrary number based on the max token count,\n",
    "# avoiding long reviews...\n",
    "MAX_LEN = 512"
   ]
  },
  {
   "cell_type": "code",
   "execution_count": 16,
   "id": "97f2f007-10c3-4a8e-a64b-fe6e4e658998",
   "metadata": {
    "id": "97f2f007-10c3-4a8e-a64b-fe6e4e658998"
   },
   "outputs": [],
   "source": [
    "encoding = tokenizer(sample_txt,\n",
    "                     padding='max_length',\n",
    "                     truncation=True,\n",
    "                     max_length=MAX_LEN,\n",
    "                     return_tensors=\"pt\")"
   ]
  },
  {
   "cell_type": "code",
   "execution_count": 17,
   "id": "d711ebd1-a14d-4097-9a03-db205cea998d",
   "metadata": {
    "colab": {
     "base_uri": "https://localhost:8080/"
    },
    "id": "d711ebd1-a14d-4097-9a03-db205cea998d",
    "outputId": "7aef82cf-bc02-4d45-e9a1-8b38228a8ee3"
   },
   "outputs": [
    {
     "data": {
      "text/plain": [
       "dict_keys(['input_ids', 'attention_mask'])"
      ]
     },
     "execution_count": 17,
     "metadata": {},
     "output_type": "execute_result"
    }
   ],
   "source": [
    "encoding.keys()"
   ]
  },
  {
   "cell_type": "markdown",
   "id": "d98fe647-39d3-441d-a921-23fa6a273342",
   "metadata": {
    "id": "d98fe647-39d3-441d-a921-23fa6a273342"
   },
   "source": [
    "## Dataset and DataLoader"
   ]
  },
  {
   "cell_type": "code",
   "execution_count": 10,
   "id": "15257ea0-1f29-4f57-93ab-d698ed057ab8",
   "metadata": {
    "id": "15257ea0-1f29-4f57-93ab-d698ed057ab8"
   },
   "outputs": [],
   "source": [
    "from torch import nn\n",
    "from torch.utils.data import Dataset, DataLoader\n",
    "\n",
    "class ReviewDataset(Dataset):\n",
    "    def __init__(self, reviews, sentiments, tokenizer, max_len):\n",
    "        self.reviews = reviews\n",
    "        self.sentiments = sentiments\n",
    "        self.tokenizer = tokenizer\n",
    "        self.max_len = max_len\n",
    "        \n",
    "    def __len__(self):\n",
    "        return len(self.reviews)\n",
    "    \n",
    "    def __getitem__(self, item):\n",
    "        review = str(self.reviews[item])\n",
    "        sentiment = self.sentiments[item]\n",
    "        \n",
    "        encoding = tokenizer(review,\n",
    "                             padding='max_length',\n",
    "                             truncation=True,\n",
    "                             max_length=self.max_len,\n",
    "                             return_tensors=\"pt\")\n",
    "        \n",
    "        return {\n",
    "            'review': review,\n",
    "            'input_ids': encoding['input_ids'].flatten(),\n",
    "            'attention_mask': encoding['attention_mask'].flatten(),\n",
    "            'targets': torch.tensor(sentiment, dtype=torch.long)\n",
    "        }"
   ]
  },
  {
   "cell_type": "code",
   "execution_count": 15,
   "id": "acd3c6d2-204a-48d1-87c5-9c8f9688a40c",
   "metadata": {
    "colab": {
     "base_uri": "https://localhost:8080/"
    },
    "id": "acd3c6d2-204a-48d1-87c5-9c8f9688a40c",
    "outputId": "e5a088ca-5a6e-4161-8d82-3af98f463159"
   },
   "outputs": [
    {
     "data": {
      "text/plain": [
       "dict_keys(['review', 'input_ids', 'attention_mask', 'targets'])"
      ]
     },
     "execution_count": 15,
     "metadata": {},
     "output_type": "execute_result"
    }
   ],
   "source": [
    "ds = ReviewDataset(\n",
    "    reviews=df.review.to_numpy(),\n",
    "    sentiments=df.sentiment.to_numpy(),\n",
    "    tokenizer=tokenizer,\n",
    "    max_len=MAX_LEN\n",
    ")\n",
    "ds[0].keys()"
   ]
  },
  {
   "cell_type": "code",
   "execution_count": 16,
   "id": "ef7a5bd8-aac2-4a68-8bbc-17d949905736",
   "metadata": {
    "colab": {
     "base_uri": "https://localhost:8080/"
    },
    "id": "ef7a5bd8-aac2-4a68-8bbc-17d949905736",
    "outputId": "ebdbe717-8f83-4b42-fb6c-f012903d4e84"
   },
   "outputs": [
    {
     "data": {
      "text/plain": [
       "((40000, 2), (5000, 2), (5000, 2))"
      ]
     },
     "execution_count": 16,
     "metadata": {},
     "output_type": "execute_result"
    }
   ],
   "source": [
    "df_train, df_test = train_test_split(df,\n",
    "                                     test_size=0.2,\n",
    "                                     stratify=df.sentiment.values,\n",
    "                                     random_state=42\n",
    "                                    )\n",
    "df_val, df_test = train_test_split(df_test,\n",
    "                                   test_size=0.5,\n",
    "                                   stratify=df_test.sentiment.values,\n",
    "                                   random_state=42\n",
    "                                  )\n",
    "df_train.shape, df_val.shape, df_test.shape"
   ]
  },
  {
   "cell_type": "code",
   "execution_count": 17,
   "id": "1c96fff4-c7d5-4180-b2e5-19680e42fe75",
   "metadata": {
    "colab": {
     "base_uri": "https://localhost:8080/"
    },
    "id": "1c96fff4-c7d5-4180-b2e5-19680e42fe75",
    "outputId": "9c463474-901f-4d01-8113-056a0c4b5041"
   },
   "outputs": [
    {
     "data": {
      "text/plain": [
       "(0    20000\n",
       " 1    20000\n",
       " Name: sentiment, dtype: int64,\n",
       " 0    2500\n",
       " 1    2500\n",
       " Name: sentiment, dtype: int64,\n",
       " 0    2500\n",
       " 1    2500\n",
       " Name: sentiment, dtype: int64)"
      ]
     },
     "execution_count": 17,
     "metadata": {},
     "output_type": "execute_result"
    }
   ],
   "source": [
    "df_train.sentiment.value_counts(), df_val.sentiment.value_counts(), df_test.sentiment.value_counts()"
   ]
  },
  {
   "cell_type": "code",
   "execution_count": 18,
   "id": "42a0c212-acc9-410a-bc3a-272369efceba",
   "metadata": {
    "id": "42a0c212-acc9-410a-bc3a-272369efceba"
   },
   "outputs": [],
   "source": [
    "def create_dl(df, tokenizer, max_len, batch_size):\n",
    "    ds = ReviewDataset(\n",
    "        reviews=df.review.to_numpy(),\n",
    "        sentiments=df.sentiment.to_numpy(),\n",
    "        tokenizer=tokenizer,\n",
    "        max_len=max_len\n",
    "    )\n",
    "    \n",
    "    return DataLoader(\n",
    "        ds,\n",
    "        batch_size=batch_size\n",
    "    )"
   ]
  },
  {
   "cell_type": "code",
   "execution_count": 19,
   "id": "4051a6dc-6e9c-4d9a-ba36-795780390aa3",
   "metadata": {
    "id": "4051a6dc-6e9c-4d9a-ba36-795780390aa3"
   },
   "outputs": [],
   "source": [
    "BATCH_SIZE = 32\n",
    "\n",
    "train_data_loader = create_dl(df_train, tokenizer, MAX_LEN, BATCH_SIZE)\n",
    "val_data_loader = create_dl(df_val, tokenizer, MAX_LEN, BATCH_SIZE)\n",
    "test_data_loader = create_dl(df_test, tokenizer, MAX_LEN, BATCH_SIZE)"
   ]
  },
  {
   "cell_type": "code",
   "execution_count": 20,
   "id": "a2276e49-33a4-408e-ac6e-3dde88c1ad18",
   "metadata": {
    "colab": {
     "base_uri": "https://localhost:8080/"
    },
    "id": "a2276e49-33a4-408e-ac6e-3dde88c1ad18",
    "outputId": "56ea0970-d058-43c5-e99e-a12a25ffc2c1"
   },
   "outputs": [
    {
     "data": {
      "text/plain": [
       "dict_keys(['review', 'input_ids', 'attention_mask', 'targets'])"
      ]
     },
     "execution_count": 20,
     "metadata": {},
     "output_type": "execute_result"
    }
   ],
   "source": [
    "data = next(iter(train_data_loader))\n",
    "data.keys()"
   ]
  },
  {
   "cell_type": "code",
   "execution_count": 44,
   "id": "6ef8fa5c-4eb9-49b5-97c6-89811ce72c39",
   "metadata": {
    "colab": {
     "base_uri": "https://localhost:8080/"
    },
    "id": "6ef8fa5c-4eb9-49b5-97c6-89811ce72c39",
    "outputId": "05a5137e-7bdb-401d-b7e0-ed9d93d51b9d"
   },
   "outputs": [
    {
     "name": "stdout",
     "output_type": "stream",
     "text": [
      "torch.Size([32, 512])\n",
      "torch.Size([32, 512])\n",
      "torch.Size([32])\n"
     ]
    }
   ],
   "source": [
    "print(data['input_ids'].shape)\n",
    "print(data['attention_mask'].shape)\n",
    "print(data['targets'].shape)"
   ]
  },
  {
   "cell_type": "code",
   "execution_count": 45,
   "id": "e3f660cc-9e80-4000-9cf3-4a0ea3151749",
   "metadata": {
    "id": "97f2f007-10c3-4a8e-a64b-fe6e4e658998"
   },
   "outputs": [],
   "source": [
    "encoding = tokenizer(data['review'],\n",
    "                     padding='max_length',\n",
    "                     truncation=True,\n",
    "                     max_length=MAX_LEN,\n",
    "                     return_tensors=\"pt\")"
   ]
  },
  {
   "cell_type": "code",
   "execution_count": 46,
   "id": "bb62db64-7814-4879-af6a-1c04a86995dc",
   "metadata": {
    "tags": []
   },
   "outputs": [
    {
     "data": {
      "text/plain": [
       "30522"
      ]
     },
     "execution_count": 46,
     "metadata": {},
     "output_type": "execute_result"
    }
   ],
   "source": [
    "vocab = tokenizer.get_vocab()\n",
    "len(vocab)"
   ]
  },
  {
   "cell_type": "code",
   "execution_count": 47,
   "id": "4a6fb3f9-1742-4434-8905-c348713d626c",
   "metadata": {},
   "outputs": [],
   "source": [
    "inv_voc = {v: k for k, v in vocab.items()}"
   ]
  },
  {
   "cell_type": "code",
   "execution_count": 48,
   "id": "d481f4ce-8c35-4027-ba24-82e01e369bff",
   "metadata": {},
   "outputs": [
    {
     "data": {
      "text/plain": [
       "[(23355, '##tized'),\n",
       " (26881, 'cynical'),\n",
       " (11022, '##ase'),\n",
       " (5908, 'divisions'),\n",
       " (29494, 'accelerating')]"
      ]
     },
     "execution_count": 48,
     "metadata": {},
     "output_type": "execute_result"
    }
   ],
   "source": [
    "list(inv_voc.items())[:5]"
   ]
  },
  {
   "cell_type": "code",
   "execution_count": 51,
   "id": "002f1b06-e8c1-4f34-bd81-9cd584e85bbc",
   "metadata": {},
   "outputs": [
    {
     "data": {
      "text/plain": [
       "'I caught this little gem totally by accident back in 1980 or \\'81. I was at a revival theatre to see two old silly sci-fi movies. The theatre was packed full and (with no warning) they showed a bunch of sci-fi short spoofs (to get us in the mood). Most were somewhat amusing but THIS came on and, within seconds, the audience was in hysterics! The biggest laugh came when they showed \"Princess Laia\" having huge cinnamon buns instead of hair on her head. She looks at the camera, gives a grim smile and nods. That made it even funnier! You gotta see \"Chewabacca\" played by what looks like a Muppet! It was extremely silly and stupid...but I couldn\\'t stop laughing. Most of the dialogue was drowned out because of all the laughter. Also if you know \"Star Wars\" pretty well it\\'s even funnier--they deliberately poke fun at some of the dialogue. This REALLY works with an audience! A definite 10!'"
      ]
     },
     "execution_count": 51,
     "metadata": {},
     "output_type": "execute_result"
    }
   ],
   "source": [
    "data['review'][0]"
   ]
  },
  {
   "cell_type": "code",
   "execution_count": 49,
   "id": "5c7f5c0c-2ffd-4e4e-996c-6b337ca6d26f",
   "metadata": {},
   "outputs": [
    {
     "data": {
      "text/plain": [
       "'[CLS] i caught this little gem totally by accident back in 1980 or \\' 81 . i was at a revival theatre to see two old silly sci - fi movies . the theatre was packed full and ( with no warning ) they showed a bunch of sci - fi short sp ##oof ##s ( to get us in the mood ) . most were somewhat amusing but this came on and , within seconds , the audience was in h ##yst ##eric ##s ! the biggest laugh came when they showed \" princess lai ##a \" having huge cinnamon bun ##s instead of hair on her head . she looks at the camera , gives a grim smile and nods . that made it even fun ##nier ! you gotta see \" chew ##aba ##cca \" played by what looks like a mu ##ppet ! it was extremely silly and stupid . . . but i couldn \\' t stop laughing . most of the dialogue was drowned out because of all the laughter . also if you know \" star wars \" pretty well it \\' s even fun ##nier - - they deliberately poke fun at some of the dialogue . this really works with an audience ! a definite 10 ! [SEP] [PAD] [PAD] [PAD] [PAD] [PAD] [PAD] [PAD] [PAD] [PAD] [PAD] [PAD] [PAD] [PAD] [PAD] [PAD] [PAD] [PAD] [PAD] [PAD] [PAD] [PAD] [PAD] [PAD] [PAD] [PAD] [PAD] [PAD] [PAD] [PAD] [PAD] [PAD] [PAD] [PAD] [PAD] [PAD] [PAD] [PAD] [PAD] [PAD] [PAD] [PAD] [PAD] [PAD] [PAD] [PAD] [PAD] [PAD] [PAD] [PAD] [PAD] [PAD] [PAD] [PAD] [PAD] [PAD] [PAD] [PAD] [PAD] [PAD] [PAD] [PAD] [PAD] [PAD] [PAD] [PAD] [PAD] [PAD] [PAD] [PAD] [PAD] [PAD] [PAD] [PAD] [PAD] [PAD] [PAD] [PAD] [PAD] [PAD] [PAD] [PAD] [PAD] [PAD] [PAD] [PAD] [PAD] [PAD] [PAD] [PAD] [PAD] [PAD] [PAD] [PAD] [PAD] [PAD] [PAD] [PAD] [PAD] [PAD] [PAD] [PAD] [PAD] [PAD] [PAD] [PAD] [PAD] [PAD] [PAD] [PAD] [PAD] [PAD] [PAD] [PAD] [PAD] [PAD] [PAD] [PAD] [PAD] [PAD] [PAD] [PAD] [PAD] [PAD] [PAD] [PAD] [PAD] [PAD] [PAD] [PAD] [PAD] [PAD] [PAD] [PAD] [PAD] [PAD] [PAD] [PAD] [PAD] [PAD] [PAD] [PAD] [PAD] [PAD] [PAD] [PAD] [PAD] [PAD] [PAD] [PAD] [PAD] [PAD] [PAD] [PAD] [PAD] [PAD] [PAD] [PAD] [PAD] [PAD] [PAD] [PAD] [PAD] [PAD] [PAD] [PAD] [PAD] [PAD] [PAD] [PAD] [PAD] [PAD] [PAD] [PAD] [PAD] [PAD] [PAD] [PAD] [PAD] [PAD] [PAD] [PAD] [PAD] [PAD] [PAD] [PAD] [PAD] [PAD] [PAD] [PAD] [PAD] [PAD] [PAD] [PAD] [PAD] [PAD] [PAD] [PAD] [PAD] [PAD] [PAD] [PAD] [PAD] [PAD] [PAD] [PAD] [PAD] [PAD] [PAD] [PAD] [PAD] [PAD] [PAD] [PAD] [PAD] [PAD] [PAD] [PAD] [PAD] [PAD] [PAD] [PAD] [PAD] [PAD] [PAD] [PAD] [PAD] [PAD] [PAD] [PAD] [PAD] [PAD] [PAD] [PAD] [PAD] [PAD] [PAD] [PAD] [PAD] [PAD] [PAD] [PAD] [PAD] [PAD] [PAD] [PAD] [PAD] [PAD] [PAD] [PAD] [PAD] [PAD] [PAD] [PAD] [PAD] [PAD] [PAD] [PAD] [PAD] [PAD] [PAD] [PAD] [PAD] [PAD] [PAD] [PAD] [PAD] [PAD] [PAD] [PAD] [PAD] [PAD] [PAD] [PAD] [PAD] [PAD] [PAD] [PAD] [PAD] [PAD] [PAD] [PAD] [PAD] [PAD] [PAD] [PAD] [PAD] [PAD] [PAD] [PAD] [PAD] [PAD] [PAD] [PAD] [PAD] [PAD]'"
      ]
     },
     "execution_count": 49,
     "metadata": {},
     "output_type": "execute_result"
    }
   ],
   "source": [
    "\" \".join(inv_voc[i] for i in encoding[\"input_ids\"][0].numpy())"
   ]
  },
  {
   "cell_type": "markdown",
   "id": "51d5ed24-c195-40f8-a88b-20dd9370e00a",
   "metadata": {
    "id": "51d5ed24-c195-40f8-a88b-20dd9370e00a"
   },
   "source": [
    "# DistilBert Model building"
   ]
  },
  {
   "cell_type": "code",
   "execution_count": null,
   "id": "e801001f-af5e-47af-96fa-1b29ecd310d0",
   "metadata": {
    "id": "e801001f-af5e-47af-96fa-1b29ecd310d0"
   },
   "outputs": [],
   "source": [
    "from transformers import AutoModel\n",
    "\n",
    "model = AutoModel.from_pretrained(PRETRAINED_MODEL_NAME)"
   ]
  },
  {
   "cell_type": "code",
   "execution_count": null,
   "id": "5ef90c39-9352-4f31-8aa4-dae7faa730c9",
   "metadata": {
    "id": "5ef90c39-9352-4f31-8aa4-dae7faa730c9"
   },
   "outputs": [],
   "source": [
    "output = model(**encoding)"
   ]
  },
  {
   "cell_type": "code",
   "execution_count": null,
   "id": "c3b02f9e-1a1e-4341-a36a-201708ccd760",
   "metadata": {
    "colab": {
     "base_uri": "https://localhost:8080/"
    },
    "id": "c3b02f9e-1a1e-4341-a36a-201708ccd760",
    "outputId": "4ae3c24c-e2f5-470b-fe78-e3cc1eae99b8"
   },
   "outputs": [
    {
     "name": "stdout",
     "output_type": "stream",
     "text": [
      "['__annotations__', '__class__', '__contains__', '__dataclass_fields__', '__dataclass_params__', '__delattr__', '__delitem__', '__dict__', '__dir__', '__doc__', '__eq__', '__format__', '__ge__', '__getattribute__', '__getitem__', '__gt__', '__hash__', '__init__', '__init_subclass__', '__iter__', '__le__', '__len__', '__lt__', '__module__', '__ne__', '__new__', '__post_init__', '__reduce__', '__reduce_ex__', '__repr__', '__reversed__', '__setattr__', '__setitem__', '__sizeof__', '__str__', '__subclasshook__', 'attentions', 'clear', 'copy', 'fromkeys', 'get', 'hidden_states', 'items', 'keys', 'last_hidden_state', 'move_to_end', 'pop', 'popitem', 'setdefault', 'to_tuple', 'update', 'values']\n"
     ]
    }
   ],
   "source": [
    "print(dir(output))"
   ]
  },
  {
   "cell_type": "code",
   "execution_count": null,
   "id": "1ca2a590-c045-4af5-8711-84cc86d897a1",
   "metadata": {
    "colab": {
     "base_uri": "https://localhost:8080/"
    },
    "id": "1ca2a590-c045-4af5-8711-84cc86d897a1",
    "outputId": "ba4468bb-ab61-4ab6-8b02-e86bd112e398"
   },
   "outputs": [
    {
     "data": {
      "text/plain": [
       "torch.Size([1, 512, 768])"
      ]
     },
     "execution_count": 31,
     "metadata": {
      "tags": []
     },
     "output_type": "execute_result"
    }
   ],
   "source": [
    "output['last_hidden_state'].shape"
   ]
  },
  {
   "cell_type": "code",
   "execution_count": null,
   "id": "684fdc5c-8625-4669-930c-d04c897e9561",
   "metadata": {
    "colab": {
     "base_uri": "https://localhost:8080/"
    },
    "id": "684fdc5c-8625-4669-930c-d04c897e9561",
    "outputId": "6da8d0ac-9307-4e76-f021-62d411895e67"
   },
   "outputs": [
    {
     "data": {
      "text/plain": [
       "torch.Size([1, 512, 768])"
      ]
     },
     "execution_count": 32,
     "metadata": {
      "tags": []
     },
     "output_type": "execute_result"
    }
   ],
   "source": [
    "output[0].shape"
   ]
  },
  {
   "cell_type": "code",
   "execution_count": null,
   "id": "HVWb790lENSb",
   "metadata": {
    "colab": {
     "base_uri": "https://localhost:8080/"
    },
    "id": "HVWb790lENSb",
    "outputId": "78043bd4-4bb7-4e50-803d-51622737f360"
   },
   "outputs": [
    {
     "data": {
      "text/plain": [
       "torch.Size([1, 768])"
      ]
     },
     "execution_count": 33,
     "metadata": {
      "tags": []
     },
     "output_type": "execute_result"
    }
   ],
   "source": [
    "output[0][:, 0].shape"
   ]
  },
  {
   "cell_type": "code",
   "execution_count": null,
   "id": "6236de2a-c350-43a7-91ca-0656f15f2909",
   "metadata": {
    "colab": {
     "base_uri": "https://localhost:8080/"
    },
    "id": "6236de2a-c350-43a7-91ca-0656f15f2909",
    "outputId": "cd6f1a46-4ef9-4023-a85d-4256ab5e62e4"
   },
   "outputs": [
    {
     "data": {
      "text/plain": [
       "768"
      ]
     },
     "execution_count": 34,
     "metadata": {
      "tags": []
     },
     "output_type": "execute_result"
    }
   ],
   "source": [
    "model.config.hidden_size"
   ]
  },
  {
   "cell_type": "code",
   "execution_count": 6,
   "id": "8d278630-e731-4929-9dd9-61d20a37c322",
   "metadata": {
    "id": "8d278630-e731-4929-9dd9-61d20a37c322"
   },
   "outputs": [],
   "source": [
    "from transformers import AutoConfig, AutoModel\n",
    "\n",
    "class DistilBert(nn.Module):\n",
    "\n",
    "    def __init__(self, pretrained_model_name=PRETRAINED_MODEL_NAME, num_classes=2):\n",
    "        super().__init__()\n",
    "        config = AutoConfig.from_pretrained(pretrained_model_name)\n",
    "\n",
    "        self.distilbert = AutoModel.from_pretrained(pretrained_model_name,\n",
    "                                                    config=config)\n",
    "        self.pre_classifier = nn.Linear(config.dim, config.dim)\n",
    "        self.dropout = nn.Dropout(config.seq_classif_dropout)\n",
    "        self.out = nn.Linear(config.dim, num_classes)\n",
    "\n",
    "    def forward(self, input_ids, attention_mask=None, head_mask=None):\n",
    "        assert attention_mask is not None, \"attention mask is none\"\n",
    "        \n",
    "        model_output = self.distilbert(input_ids=input_ids,\n",
    "                                       attention_mask=attention_mask,\n",
    "                                       head_mask=head_mask)\n",
    "        hidden_state = model_output[0]  # [BATCH_SIZE=BS, MAX_SEQ_LENGTH = 512, DIM = 768]\n",
    "        # get the first token as pooled_output\n",
    "        pooled_output = hidden_state[:, 0]  # [BS, 768]\n",
    "        pooled_output = self.pre_classifier(pooled_output)  # [BS, 768]\n",
    "        pooled_output = F.relu(pooled_output)  # [BS, 768]\n",
    "        pooled_output = self.dropout(pooled_output)  # [BS, 768]\n",
    "        output = self.out(pooled_output)  # [BS, 2]\n",
    "\n",
    "        return output"
   ]
  },
  {
   "cell_type": "code",
   "execution_count": 21,
   "id": "0ab4ce8b-9ae6-4d45-b688-410f36b9d0b2",
   "metadata": {
    "id": "0ab4ce8b-9ae6-4d45-b688-410f36b9d0b2"
   },
   "outputs": [],
   "source": [
    "device = torch.device('cuda')"
   ]
  },
  {
   "cell_type": "code",
   "execution_count": null,
   "id": "c7a2ca3e-ad35-4046-9a86-e73187e49763",
   "metadata": {
    "id": "c7a2ca3e-ad35-4046-9a86-e73187e49763"
   },
   "outputs": [],
   "source": [
    "model = DistilBert(num_classes=2)\n",
    "model = model.to(device)"
   ]
  },
  {
   "cell_type": "code",
   "execution_count": null,
   "id": "9590e009-15fa-45a4-bdaf-54a1f5fb8c85",
   "metadata": {
    "colab": {
     "base_uri": "https://localhost:8080/"
    },
    "id": "9590e009-15fa-45a4-bdaf-54a1f5fb8c85",
    "outputId": "76c19dd5-009b-4c8c-eee5-8a72e574828c"
   },
   "outputs": [
    {
     "name": "stdout",
     "output_type": "stream",
     "text": [
      "torch.Size([32, 512])\n",
      "torch.Size([32, 512])\n"
     ]
    }
   ],
   "source": [
    "input_ids = data['input_ids'].to(device)\n",
    "attention_mask = data['attention_mask'].to(device)\n",
    "targets = data['targets'].to(device)\n",
    "\n",
    "print(input_ids.shape) # batch size x seq length\n",
    "print(attention_mask.shape) # batch size x seq length"
   ]
  },
  {
   "cell_type": "code",
   "execution_count": null,
   "id": "0-M3K6LOCsOO",
   "metadata": {
    "colab": {
     "base_uri": "https://localhost:8080/"
    },
    "id": "0-M3K6LOCsOO",
    "outputId": "cd093a24-b8d2-4ebe-adf6-988802734421"
   },
   "outputs": [
    {
     "name": "stdout",
     "output_type": "stream",
     "text": [
      "torch.return_types.max(\n",
      "values=tensor([0.9933, 0.9976, 0.8964, 0.9661, 0.9438, 0.9659, 0.9898, 0.9945, 0.9971,\n",
      "        0.9975, 0.9948, 0.9976, 0.9941, 0.9966, 0.9976, 0.9975, 0.9973, 0.9829,\n",
      "        0.9976, 0.9843, 0.9962, 0.9941, 0.9879, 0.9977, 0.9973, 0.9966, 0.9974,\n",
      "        0.9962, 0.9615, 0.9960, 0.9967, 0.9969], device='cuda:0'),\n",
      "indices=tensor([1, 0, 0, 0, 1, 1, 1, 1, 1, 1, 0, 0, 1, 0, 1, 0, 0, 0, 1, 1, 0, 1, 0, 1,\n",
      "        0, 0, 1, 1, 1, 0, 1, 0], device='cuda:0'))\n"
     ]
    }
   ],
   "source": [
    "with torch.no_grad():\n",
    "    output = model(input_ids, attention_mask)\n",
    "    print(torch.max(F.softmax(output.detach(), dim=1), dim=1))"
   ]
  },
  {
   "cell_type": "code",
   "execution_count": null,
   "id": "4b35x8CLnwMY",
   "metadata": {
    "colab": {
     "base_uri": "https://localhost:8080/"
    },
    "id": "4b35x8CLnwMY",
    "outputId": "92c24394-ad0b-4f5d-b2da-ae44d2a2b71c"
   },
   "outputs": [
    {
     "data": {
      "text/plain": [
       "torch.Size([32, 2])"
      ]
     },
     "execution_count": 106,
     "metadata": {
      "tags": []
     },
     "output_type": "execute_result"
    }
   ],
   "source": [
    "output.shape"
   ]
  },
  {
   "cell_type": "code",
   "execution_count": null,
   "id": "hrQ_yH9poHYv",
   "metadata": {
    "colab": {
     "base_uri": "https://localhost:8080/"
    },
    "id": "hrQ_yH9poHYv",
    "outputId": "ad115daa-a7a1-4ae2-e073-d54487882dfe"
   },
   "outputs": [
    {
     "data": {
      "text/plain": [
       "tensor([[-2.5606,  2.4417],\n",
       "        [ 2.9389, -3.1003],\n",
       "        [ 1.0104, -1.1470],\n",
       "        [ 1.6579, -1.6921],\n",
       "        [-1.4521,  1.3682]], device='cuda:0')"
      ]
     },
     "execution_count": 112,
     "metadata": {
      "tags": []
     },
     "output_type": "execute_result"
    }
   ],
   "source": [
    "output[:5]"
   ]
  },
  {
   "cell_type": "code",
   "execution_count": null,
   "id": "pr0q6KNCnpxZ",
   "metadata": {
    "id": "pr0q6KNCnpxZ"
   },
   "outputs": [],
   "source": [
    "a, b = torch.max(output, dim=1)"
   ]
  },
  {
   "cell_type": "code",
   "execution_count": null,
   "id": "ixWvUJlHoC-T",
   "metadata": {
    "colab": {
     "base_uri": "https://localhost:8080/"
    },
    "id": "ixWvUJlHoC-T",
    "outputId": "16db00f3-eed0-4096-e621-3dc75cd33725"
   },
   "outputs": [
    {
     "data": {
      "text/plain": [
       "(tensor([2.4417, 2.9389, 1.0104, 1.6579, 1.3682, 1.6101, 2.2020, 2.5188, 2.8211,\n",
       "         2.8911, 2.5335, 2.9332, 2.4776, 2.7414, 2.8970, 2.9071, 2.8740, 1.9653,\n",
       "         2.9043, 2.0108, 2.7091, 2.4632, 2.1390, 2.9207, 2.8608, 2.7553, 2.8811,\n",
       "         2.6817, 1.4902, 2.7288, 2.7598, 2.7828], device='cuda:0'),\n",
       " tensor([1, 0, 0, 0, 1, 1, 1, 1, 1, 1, 0, 0, 1, 0, 1, 0, 0, 0, 1, 1, 0, 1, 0, 1,\n",
       "         0, 0, 1, 1, 1, 0, 1, 0], device='cuda:0'))"
      ]
     },
     "execution_count": 110,
     "metadata": {
      "tags": []
     },
     "output_type": "execute_result"
    }
   ],
   "source": [
    "a, b"
   ]
  },
  {
   "cell_type": "code",
   "execution_count": null,
   "id": "tcAp2upZoWt0",
   "metadata": {
    "colab": {
     "base_uri": "https://localhost:8080/"
    },
    "id": "tcAp2upZoWt0",
    "outputId": "281c6aee-9a5f-4f3a-de61-ee77c1728195"
   },
   "outputs": [
    {
     "data": {
      "text/plain": [
       "tensor([1, 0, 0, 0, 0, 1, 1, 1, 1, 1, 0, 0, 1, 0, 1, 0, 0, 0, 1, 1, 0, 1, 0, 1,\n",
       "        0, 0, 1, 1, 1, 0, 1, 0], device='cuda:0')"
      ]
     },
     "execution_count": 114,
     "metadata": {
      "tags": []
     },
     "output_type": "execute_result"
    }
   ],
   "source": [
    "targets"
   ]
  },
  {
   "cell_type": "code",
   "execution_count": null,
   "id": "8xes7kproa-Y",
   "metadata": {
    "colab": {
     "base_uri": "https://localhost:8080/"
    },
    "id": "8xes7kproa-Y",
    "outputId": "899f56e9-5902-40ba-ab4f-e22264596289"
   },
   "outputs": [
    {
     "data": {
      "text/plain": [
       "tensor(31, device='cuda:0')"
      ]
     },
     "execution_count": 121,
     "metadata": {
      "tags": []
     },
     "output_type": "execute_result"
    }
   ],
   "source": [
    "torch.sum(b == targets)"
   ]
  },
  {
   "cell_type": "code",
   "execution_count": null,
   "id": "DekDOMbECJnk",
   "metadata": {
    "colab": {
     "base_uri": "https://localhost:8080/"
    },
    "id": "DekDOMbECJnk",
    "outputId": "75e7a291-1ce0-4925-ce98-ba71f48b510d"
   },
   "outputs": [
    {
     "name": "stdout",
     "output_type": "stream",
     "text": [
      "Tue May 11 15:41:27 2021       \n",
      "+-----------------------------------------------------------------------------+\n",
      "| NVIDIA-SMI 465.19.01    Driver Version: 460.32.03    CUDA Version: 11.2     |\n",
      "|-------------------------------+----------------------+----------------------+\n",
      "| GPU  Name        Persistence-M| Bus-Id        Disp.A | Volatile Uncorr. ECC |\n",
      "| Fan  Temp  Perf  Pwr:Usage/Cap|         Memory-Usage | GPU-Util  Compute M. |\n",
      "|                               |                      |               MIG M. |\n",
      "|===============================+======================+======================|\n",
      "|   0  Tesla T4            Off  | 00000000:00:04.0 Off |                    0 |\n",
      "| N/A   59C    P0    30W /  70W |   2450MiB / 15109MiB |      0%      Default |\n",
      "|                               |                      |                  N/A |\n",
      "+-------------------------------+----------------------+----------------------+\n",
      "                                                                               \n",
      "+-----------------------------------------------------------------------------+\n",
      "| Processes:                                                                  |\n",
      "|  GPU   GI   CI        PID   Type   Process name                  GPU Memory |\n",
      "|        ID   ID                                                   Usage      |\n",
      "|=============================================================================|\n",
      "+-----------------------------------------------------------------------------+\n"
     ]
    }
   ],
   "source": [
    "!nvidia-smi"
   ]
  },
  {
   "cell_type": "markdown",
   "id": "CGdPi3q5LRG5",
   "metadata": {
    "id": "CGdPi3q5LRG5"
   },
   "source": [
    "## Training"
   ]
  },
  {
   "cell_type": "code",
   "execution_count": 79,
   "id": "XReHhyMmFxM1",
   "metadata": {
    "id": "XReHhyMmFxM1"
   },
   "outputs": [],
   "source": [
    "from transformers import AdamW, get_linear_schedule_with_warmup\n",
    "\n",
    "EPOCHS = 2\n",
    "\n",
    "optimizer = AdamW(model.parameters(), lr=2e-5, correct_bias=False)\n",
    "total_steps = len(train_data_loader) * EPOCHS\n",
    "\n",
    "scheduler = get_linear_schedule_with_warmup(\n",
    "  optimizer,\n",
    "  num_warmup_steps=0,\n",
    "  num_training_steps=total_steps\n",
    ")\n",
    "\n",
    "loss_fn = nn.CrossEntropyLoss().to(device)"
   ]
  },
  {
   "cell_type": "code",
   "execution_count": 53,
   "id": "xglWePQ2Gwp5",
   "metadata": {
    "id": "xglWePQ2Gwp5"
   },
   "outputs": [],
   "source": [
    "def train_epoch(\n",
    "    model,\n",
    "    data_loader,\n",
    "    loss_fn,\n",
    "    optimizer,\n",
    "    device,\n",
    "    scheduler,\n",
    "    n_examples\n",
    "    ):\n",
    "\n",
    "    model = model.train()\n",
    "    losses = []\n",
    "    correct_predictions = 0\n",
    "\n",
    "    for dl in data_loader:\n",
    "        input_ids = dl[\"input_ids\"].to(device)\n",
    "        attention_mask = dl[\"attention_mask\"].to(device)\n",
    "        targets = dl[\"targets\"].to(device)\n",
    "        outputs = model(\n",
    "            input_ids=input_ids,\n",
    "            attention_mask=attention_mask\n",
    "        )\n",
    "\n",
    "        _, preds = torch.max(outputs, dim=1)\n",
    "        loss = loss_fn(outputs, targets)\n",
    "        correct_predictions += torch.sum(preds == targets)\n",
    "\n",
    "        losses.append(loss.item())\n",
    "        loss.backward()\n",
    "\n",
    "        nn.utils.clip_grad_norm_(model.parameters(), max_norm=1.0)\n",
    "        optimizer.step()\n",
    "        scheduler.step()\n",
    "        optimizer.zero_grad()\n",
    "\n",
    "    return correct_predictions.double() / n_examples, np.mean(losses)"
   ]
  },
  {
   "cell_type": "code",
   "execution_count": 54,
   "id": "M0sI5PcrHKcM",
   "metadata": {
    "id": "M0sI5PcrHKcM"
   },
   "outputs": [],
   "source": [
    "def eval_model(\n",
    "    model,\n",
    "    data_loader,\n",
    "    loss_fn,\n",
    "    device,\n",
    "    n_examples\n",
    "    ):\n",
    "\n",
    "    model = model.eval()\n",
    "\n",
    "    losses = []\n",
    "    correct_predictions = 0\n",
    "\n",
    "    with torch.no_grad():\n",
    "        for dl in data_loader:\n",
    "            input_ids = dl[\"input_ids\"].to(device)\n",
    "            attention_mask = dl[\"attention_mask\"].to(device)\n",
    "            targets = dl[\"targets\"].to(device)\n",
    "            outputs = model(\n",
    "                input_ids=input_ids,\n",
    "                attention_mask=attention_mask\n",
    "                )\n",
    "            \n",
    "            _, preds = torch.max(outputs, dim=1)\n",
    "            loss = loss_fn(outputs, targets)\n",
    "            correct_predictions += torch.sum(preds == targets)\n",
    "            losses.append(loss.item())\n",
    "            \n",
    "    return correct_predictions.double() / n_examples, np.mean(losses)"
   ]
  },
  {
   "cell_type": "code",
   "execution_count": null,
   "id": "-4e_q1v8IGJ3",
   "metadata": {
    "colab": {
     "base_uri": "https://localhost:8080/"
    },
    "id": "-4e_q1v8IGJ3",
    "outputId": "580f3d44-235c-4441-c706-fedf2f962e34"
   },
   "outputs": [
    {
     "name": "stdout",
     "output_type": "stream",
     "text": [
      "Epoch 1/2\n",
      "----------\n",
      "Train loss 0.11950298546180128 accuracy 0.9603750000000001\n",
      "Val   loss 0.18738937297551211 accuracy 0.9372\n",
      "\n",
      "Epoch 2/2\n",
      "----------\n",
      "Train loss 0.08821934188082814 accuracy 0.9728\n",
      "Val   loss 0.18738937297551211 accuracy 0.9372\n",
      "\n",
      "CPU times: user 1h 11min 55s, sys: 6.95 s, total: 1h 12min 2s\n",
      "Wall time: 1h 12min 12s\n"
     ]
    }
   ],
   "source": [
    "%%time\n",
    "\n",
    "from collections import defaultdict\n",
    "history = defaultdict(list)\n",
    "best_acc = 0\n",
    "\n",
    "for epoch in range(EPOCHS):\n",
    "    print(f'Epoch {epoch + 1}/{EPOCHS}')\n",
    "    print('-' * 10)\n",
    "\n",
    "    train_acc, train_loss = train_epoch(\n",
    "        model,\n",
    "        train_data_loader,\n",
    "        loss_fn,\n",
    "        optimizer,\n",
    "        device,\n",
    "        scheduler,\n",
    "        len(df_train)\n",
    "        )\n",
    "    print(f'Train loss {train_loss} accuracy {train_acc}')\n",
    "\n",
    "    val_acc, val_loss = eval_model(\n",
    "        model,\n",
    "        val_data_loader,\n",
    "        loss_fn,\n",
    "        device,\n",
    "        len(df_val)\n",
    "        )\n",
    "    print(f'Val   loss {val_loss} accuracy {val_acc}')\n",
    "    print()\n",
    "\n",
    "    history['train_acc'].append(train_acc)\n",
    "    history['train_loss'].append(train_loss)\n",
    "    history['val_acc'].append(val_acc)\n",
    "    history['val_loss'].append(val_loss)\n",
    "\n",
    "    if val_acc > best_acc:\n",
    "        torch.save(model.state_dict(), f'{PATH}//best_model_state.bin')\n",
    "        best_acc = val_acc"
   ]
  },
  {
   "cell_type": "code",
   "execution_count": null,
   "id": "CcK7ifyZJPyw",
   "metadata": {
    "colab": {
     "base_uri": "https://localhost:8080/",
     "height": 632
    },
    "id": "CcK7ifyZJPyw",
    "outputId": "19368071-4e38-44dc-f8c9-352644e0ef9f"
   },
   "outputs": [
    {
     "data": {
      "image/png": "[encoded data removed]",
      "text/plain": [
       "<Figure size 720x720 with 1 Axes>"
      ]
     },
     "metadata": {
      "needs_background": "light",
      "tags": []
     },
     "output_type": "display_data"
    }
   ],
   "source": [
    "plt.plot(history['train_acc'], label='Training accuracy')\n",
    "plt.plot(history['val_acc'], label='Validation accuracy')\n",
    "\n",
    "plt.title('Training history')\n",
    "plt.ylabel('Accuracy')\n",
    "plt.xlabel('Epoch')\n",
    "plt.legend();"
   ]
  },
  {
   "cell_type": "markdown",
   "id": "sz18llspLV04",
   "metadata": {
    "id": "sz18llspLV04"
   },
   "source": [
    "# Evaluation"
   ]
  },
  {
   "cell_type": "code",
   "execution_count": 22,
   "id": "a7e474ee-2f62-4b89-97a9-6268430ad023",
   "metadata": {},
   "outputs": [],
   "source": [
    "state_dict_path = 'data//best_model_state.bin'\n",
    "class_names = ['negative', 'positive']\n",
    "PRETRAINED_MODEL_NAME = 'distilbert-base-uncased'"
   ]
  },
  {
   "cell_type": "code",
   "execution_count": 24,
   "id": "0c941983-824c-40be-8ab5-01de77135192",
   "metadata": {},
   "outputs": [],
   "source": [
    "model = DistilBert(PRETRAINED_MODEL_NAME, len(class_names))\n",
    "model.load_state_dict(\n",
    "    torch.load(state_dict_path, map_location=device)\n",
    ")\n",
    "model = model.to(device)\n",
    "model = model.eval()"
   ]
  },
  {
   "cell_type": "code",
   "execution_count": 87,
   "id": "3dbc3931-20cc-4037-b835-0df160d80d89",
   "metadata": {},
   "outputs": [],
   "source": [
    "loss_fn = nn.CrossEntropyLoss().to(device)"
   ]
  },
  {
   "cell_type": "code",
   "execution_count": 90,
   "id": "4Cx--70SJyDO",
   "metadata": {
    "colab": {
     "base_uri": "https://localhost:8080/"
    },
    "id": "4Cx--70SJyDO",
    "outputId": "90579dcc-2309-43cb-823b-7706524ee49a"
   },
   "outputs": [
    {
     "data": {
      "text/plain": [
       "0.937"
      ]
     },
     "execution_count": 90,
     "metadata": {},
     "output_type": "execute_result"
    }
   ],
   "source": [
    "test_acc, _ = eval_model(\n",
    "    model,\n",
    "    test_data_loader,\n",
    "    loss_fn,\n",
    "    device,\n",
    "    len(df_test)\n",
    "    )\n",
    "\n",
    "test_acc.item()"
   ]
  },
  {
   "cell_type": "code",
   "execution_count": 91,
   "id": "GX2jBDG7J4On",
   "metadata": {
    "colab": {
     "base_uri": "https://localhost:8080/"
    },
    "id": "GX2jBDG7J4On",
    "outputId": "27ab7bbd-c6ad-4df7-e7c1-85c53eab615c"
   },
   "outputs": [
    {
     "data": {
      "text/plain": [
       "tensor(0.9370, device='cuda:0', dtype=torch.float64)"
      ]
     },
     "execution_count": 91,
     "metadata": {},
     "output_type": "execute_result"
    }
   ],
   "source": [
    "test_acc"
   ]
  },
  {
   "cell_type": "code",
   "execution_count": 92,
   "id": "ClfqHeRRkn4s",
   "metadata": {
    "colab": {
     "base_uri": "https://localhost:8080/"
    },
    "id": "ClfqHeRRkn4s",
    "outputId": "ae1c5f64-963a-4d61-a7d5-34dfa0ebbc15"
   },
   "outputs": [
    {
     "data": {
      "text/plain": [
       "dict_keys(['review', 'input_ids', 'attention_mask', 'targets'])"
      ]
     },
     "execution_count": 92,
     "metadata": {},
     "output_type": "execute_result"
    }
   ],
   "source": [
    "next(iter(test_data_loader)).keys()"
   ]
  },
  {
   "cell_type": "code",
   "execution_count": 93,
   "id": "GeAnosKOJ-Ku",
   "metadata": {
    "id": "GeAnosKOJ-Ku"
   },
   "outputs": [],
   "source": [
    "def get_predictions(model, data_loader):\n",
    "  model = model.eval()\n",
    "  \n",
    "  review_texts = []\n",
    "  predictions = []\n",
    "  prediction_probs = []\n",
    "  real_preds = []\n",
    "\n",
    "  with torch.no_grad():\n",
    "    for d in data_loader:\n",
    "\n",
    "      texts = d[\"review\"]\n",
    "      input_ids = d[\"input_ids\"].to(device)\n",
    "      attention_mask = d[\"attention_mask\"].to(device)\n",
    "      targets = d[\"targets\"].to(device)\n",
    "\n",
    "      outputs = model(\n",
    "        input_ids=input_ids,\n",
    "        attention_mask=attention_mask\n",
    "      )\n",
    "      _, preds = torch.max(outputs, dim=1)\n",
    "\n",
    "      probs = F.softmax(outputs, dim=1)\n",
    "\n",
    "      review_texts.extend(texts)\n",
    "      predictions.extend(preds)\n",
    "      prediction_probs.extend(probs)\n",
    "      real_preds.extend(targets)\n",
    "\n",
    "  predictions = torch.stack(predictions).cpu()\n",
    "  prediction_probs = torch.stack(prediction_probs).cpu()\n",
    "  real_preds = torch.stack(real_preds).cpu()\n",
    "  return review_texts, predictions, prediction_probs, real_preds"
   ]
  },
  {
   "cell_type": "code",
   "execution_count": 94,
   "id": "zvMmiD3LKNCX",
   "metadata": {
    "id": "zvMmiD3LKNCX"
   },
   "outputs": [],
   "source": [
    "y_review, y_pred, y_pred_probs, y_test = get_predictions(\n",
    "  model,\n",
    "  test_data_loader\n",
    ")"
   ]
  },
  {
   "cell_type": "code",
   "execution_count": 95,
   "id": "hF_VjTpPKP3M",
   "metadata": {
    "colab": {
     "base_uri": "https://localhost:8080/"
    },
    "id": "hF_VjTpPKP3M",
    "outputId": "502a016d-bcc0-4e5d-9ecd-c47089c68b51"
   },
   "outputs": [
    {
     "name": "stdout",
     "output_type": "stream",
     "text": [
      "              precision    recall  f1-score   support\n",
      "\n",
      "    negative       0.94      0.94      0.94      2500\n",
      "    positive       0.94      0.94      0.94      2500\n",
      "\n",
      "    accuracy                           0.94      5000\n",
      "   macro avg       0.94      0.94      0.94      5000\n",
      "weighted avg       0.94      0.94      0.94      5000\n",
      "\n"
     ]
    }
   ],
   "source": [
    "from sklearn.metrics import classification_report\n",
    "\n",
    "class_names = ['negative', 'positive']\n",
    "print(classification_report(y_test, y_pred, target_names=class_names))"
   ]
  },
  {
   "cell_type": "code",
   "execution_count": 96,
   "id": "SaF6Mv_fKcrj",
   "metadata": {
    "colab": {
     "base_uri": "https://localhost:8080/",
     "height": 399
    },
    "id": "SaF6Mv_fKcrj",
    "outputId": "a3a949ca-c3a3-4df4-b5b8-b190c0d22a31"
   },
   "outputs": [
    {
     "data": {
      "image/png": "[encoded data removed]",
      "text/plain": [
       "<Figure size 576x432 with 2 Axes>"
      ]
     },
     "metadata": {},
     "output_type": "display_data"
    }
   ],
   "source": [
    "from sklearn.metrics import confusion_matrix\n",
    "\n",
    "def show_confusion_matrix(confusion_matrix):\n",
    "    plt.figure(figsize=(8, 6))\n",
    "    sns.heatmap(confusion_matrix, annot=True, fmt=\"d\", cmap=\"Blues\")\n",
    "    plt.ylabel('True sentiment')\n",
    "    plt.xlabel('Predicted sentiment');\n",
    "\n",
    "cm = confusion_matrix(y_test, y_pred)\n",
    "df_cm = pd.DataFrame(cm, index=class_names, columns=class_names)\n",
    "show_confusion_matrix(df_cm)"
   ]
  },
  {
   "cell_type": "code",
   "execution_count": 97,
   "id": "6BMa-NsJme1v",
   "metadata": {
    "colab": {
     "base_uri": "https://localhost:8080/",
     "height": 145
    },
    "id": "6BMa-NsJme1v",
    "outputId": "62595515-6924-442a-fb94-83679b35ea14"
   },
   "outputs": [
    {
     "name": "stdout",
     "output_type": "stream",
     "text": [
      "[[2338  162]\n",
      " [ 153 2347]]\n"
     ]
    },
    {
     "data": {
      "text/html": [
       "<div>\n",
       "<style scoped>\n",
       "    .dataframe tbody tr th:only-of-type {\n",
       "        vertical-align: middle;\n",
       "    }\n",
       "\n",
       "    .dataframe tbody tr th {\n",
       "        vertical-align: top;\n",
       "    }\n",
       "\n",
       "    .dataframe thead th {\n",
       "        text-align: right;\n",
       "    }\n",
       "</style>\n",
       "<table border=\"1\" class=\"dataframe\">\n",
       "  <thead>\n",
       "    <tr style=\"text-align: right;\">\n",
       "      <th></th>\n",
       "      <th>negative</th>\n",
       "      <th>positive</th>\n",
       "    </tr>\n",
       "  </thead>\n",
       "  <tbody>\n",
       "    <tr>\n",
       "      <th>negative</th>\n",
       "      <td>2338</td>\n",
       "      <td>162</td>\n",
       "    </tr>\n",
       "    <tr>\n",
       "      <th>positive</th>\n",
       "      <td>153</td>\n",
       "      <td>2347</td>\n",
       "    </tr>\n",
       "  </tbody>\n",
       "</table>\n",
       "</div>"
      ],
      "text/plain": [
       "          negative  positive\n",
       "negative      2338       162\n",
       "positive       153      2347"
      ]
     },
     "metadata": {},
     "output_type": "display_data"
    }
   ],
   "source": [
    "print(cm); display(df_cm)"
   ]
  },
  {
   "cell_type": "markdown",
   "id": "7ZEGcFptLJhR",
   "metadata": {
    "id": "7ZEGcFptLJhR"
   },
   "source": [
    "# Predicting Random Reviews"
   ]
  },
  {
   "cell_type": "code",
   "execution_count": 101,
   "id": "S_4joAQnKu36",
   "metadata": {
    "id": "S_4joAQnKu36"
   },
   "outputs": [],
   "source": [
    "import random\n",
    "\n",
    "idx = random.randint(0, len(y_test))\n",
    "\n",
    "review = y_review[idx]\n",
    "true_sentiment = y_test[idx]\n",
    "pred_df = pd.DataFrame({\n",
    "    'class_names': class_names,\n",
    "    'values': y_pred_probs[idx]\n",
    "    })"
   ]
  },
  {
   "cell_type": "code",
   "execution_count": 102,
   "id": "xCTuIQYRSxl7",
   "metadata": {
    "colab": {
     "base_uri": "https://localhost:8080/"
    },
    "id": "xCTuIQYRSxl7",
    "outputId": "ba3f0049-e219-4072-cc33-86a777653c5d"
   },
   "outputs": [
    {
     "name": "stdout",
     "output_type": "stream",
     "text": [
      "Indian cinema typifies cops of two broad categories: they are either\n",
      "the honest type or the bad guys. The honest guys always shout at the\n",
      "top of their voice and fight the system while the bad cops enjoy for\n",
      "most part but suffer at the end.<br /><br />This movie at least breaks\n",
      "this usual formula and gives a refreshing view of cops and their\n",
      "lives. The direction takes an inside look at the life of a young\n",
      "ambitious cop who. The music is interesting and the editing is a trend\n",
      "setter as far as Indian cinema goes.<br /><br />The movie is slow at\n",
      "times and the dilemma which Anbu faces when it comes to Maya is\n",
      "overplayed at times. But I would still give this one 9/10 simply\n",
      "because it has many firsts to its credit.\n",
      "\n",
      "True sentiment: positive\n"
     ]
    }
   ],
   "source": [
    "from textwrap import wrap\n",
    "\n",
    "print(\"\\n\".join(wrap(review)))\n",
    "print()\n",
    "print(f'True sentiment: {class_names[true_sentiment]}')"
   ]
  },
  {
   "cell_type": "code",
   "execution_count": 103,
   "id": "k79Cw-owlHQL",
   "metadata": {
    "colab": {
     "base_uri": "https://localhost:8080/",
     "height": 344
    },
    "id": "k79Cw-owlHQL",
    "outputId": "1a304d1a-4e44-4be7-a501-809d4ebd58b1"
   },
   "outputs": [
    {
     "data": {
      "image/png": "[encoded data removed]",
      "text/plain": [
       "<Figure size 576x360 with 1 Axes>"
      ]
     },
     "metadata": {},
     "output_type": "display_data"
    }
   ],
   "source": [
    "plt.figure(figsize=(8, 5))\n",
    "sns.barplot(x='values', y='class_names', data=pred_df)\n",
    "plt.ylabel('sentiment')\n",
    "plt.xlabel('probability');"
   ]
  },
  {
   "cell_type": "code",
   "execution_count": 104,
   "id": "XTKGNwJHLJUm",
   "metadata": {
    "id": "XTKGNwJHLJUm"
   },
   "outputs": [],
   "source": [
    "idx = random.randint(0, len(df))\n",
    "review = df.review[idx]\n",
    "\n",
    "encoded_review = tokenizer(\n",
    "    review,\n",
    "    padding='max_length',\n",
    "    truncation=True,\n",
    "    max_length=MAX_LEN,\n",
    "    return_tensors=\"pt\")"
   ]
  },
  {
   "cell_type": "code",
   "execution_count": 105,
   "id": "i8gnQdjfQtCw",
   "metadata": {
    "colab": {
     "base_uri": "https://localhost:8080/"
    },
    "id": "i8gnQdjfQtCw",
    "outputId": "a9c96b7b-59c7-4a89-f59d-b2778c796a2b"
   },
   "outputs": [
    {
     "name": "stdout",
     "output_type": "stream",
     "text": [
      "Review text: This is a great family film dealing with down to earth people who\n",
      "enjoy their local interests dealing mainly with horse racing. Lloyd\n",
      "Bourdelle, (Walter Matthau) is a farmer who also raises quarter horses\n",
      "and has a young son named Casey Bourdelle, who loves horses. Lloyd is\n",
      "able to raise a full grown horse who he calls \"Casey's Shadow\" after\n",
      "his son and this horse breaks all speed records and is a possible\n",
      "winner of a million dollar race. Sarah Blue, ( Alexis Smith) becomes\n",
      "interested in this horse and offers to buy the horse for $500,00\n",
      "dollars, however, this horse receives serious injuries to his legs and\n",
      "Lloyd receives a serious set-back which upsets the entire family.\n",
      "Walter Matthau gave an outstanding performance and this is a great\n",
      "film to view and enjoy.\n",
      "\n",
      "Sentiment  : positive\n"
     ]
    }
   ],
   "source": [
    "input_ids = encoded_review['input_ids'].to(device)\n",
    "attention_mask = encoded_review['attention_mask'].to(device)\n",
    "\n",
    "with torch.no_grad():\n",
    "    output = model(input_ids, attention_mask)\n",
    "    _, prediction = torch.max(output, dim=1)\n",
    "\n",
    "wrapped_review = \"\\n\".join(wrap(review))\n",
    "print(f'Review text: {wrapped_review}\\n')\n",
    "print(f'Sentiment  : {class_names[prediction]}')"
   ]
  },
  {
   "cell_type": "markdown",
   "id": "4a074b7f-c0cb-46c7-a996-0e1b274a56ee",
   "metadata": {},
   "source": [
    "# Check incorrect predictions"
   ]
  },
  {
   "cell_type": "code",
   "execution_count": 106,
   "id": "fgF2qC-SQ4cF",
   "metadata": {
    "colab": {
     "base_uri": "https://localhost:8080/"
    },
    "id": "fgF2qC-SQ4cF",
    "outputId": "a70a0dd2-9d61-47e8-9eea-846d08d83d7f"
   },
   "outputs": [
    {
     "data": {
      "text/plain": [
       "315"
      ]
     },
     "execution_count": 106,
     "metadata": {},
     "output_type": "execute_result"
    }
   ],
   "source": [
    "wrong_pred_idx = np.where(y_test != y_pred)[0]\n",
    "len(wrong_pred_idx)"
   ]
  },
  {
   "cell_type": "code",
   "execution_count": 107,
   "id": "Yu3zRPkNpP70",
   "metadata": {
    "colab": {
     "base_uri": "https://localhost:8080/"
    },
    "id": "Yu3zRPkNpP70",
    "outputId": "60557a2f-78e6-4d11-9343-b5355bb72b0d"
   },
   "outputs": [
    {
     "data": {
      "text/plain": [
       "[array([0.00224307, 0.9977569 ], dtype=float32),\n",
       " array([0.9974662 , 0.00253376], dtype=float32),\n",
       " array([0.00263033, 0.99736965], dtype=float32),\n",
       " array([0.00267017, 0.99732983], dtype=float32),\n",
       " array([0.00270116, 0.9972989 ], dtype=float32)]"
      ]
     },
     "execution_count": 107,
     "metadata": {},
     "output_type": "execute_result"
    }
   ],
   "source": [
    "sorted(y_pred_probs[wrong_pred_idx].numpy(), key=lambda x: x.max(), reverse=True)[:5]"
   ]
  },
  {
   "cell_type": "code",
   "execution_count": 108,
   "id": "BD1ctD-xrHBp",
   "metadata": {
    "id": "BD1ctD-xrHBp"
   },
   "outputs": [],
   "source": [
    "prob_idx_dict = {k: v.numpy() for k, v in zip(wrong_pred_idx, y_pred_probs[wrong_pred_idx])}"
   ]
  },
  {
   "cell_type": "code",
   "execution_count": 109,
   "id": "z60hyweDpW_0",
   "metadata": {
    "id": "z60hyweDpW_0"
   },
   "outputs": [],
   "source": [
    "sorted_wrong_pred = sorted(prob_idx_dict.items(), \n",
    "                           key=lambda x: x[1].max(),\n",
    "                           reverse=True)"
   ]
  },
  {
   "cell_type": "code",
   "execution_count": 110,
   "id": "YuXZWkMYsdsd",
   "metadata": {
    "colab": {
     "base_uri": "https://localhost:8080/"
    },
    "id": "YuXZWkMYsdsd",
    "outputId": "5f0d7b2c-48d0-48c6-fe0b-7f96d3a40744"
   },
   "outputs": [
    {
     "data": {
      "text/plain": [
       "[(358, array([0.00224307, 0.9977569 ], dtype=float32)),\n",
       " (540, array([0.9974662 , 0.00253376], dtype=float32)),\n",
       " (3285, array([0.00263033, 0.99736965], dtype=float32)),\n",
       " (3566, array([0.00267017, 0.99732983], dtype=float32)),\n",
       " (4686, array([0.00270116, 0.9972989 ], dtype=float32))]"
      ]
     },
     "execution_count": 110,
     "metadata": {},
     "output_type": "execute_result"
    }
   ],
   "source": [
    "sorted_wrong_pred[:5]"
   ]
  },
  {
   "cell_type": "code",
   "execution_count": 122,
   "id": "vhDvU-ZyyJDq",
   "metadata": {
    "colab": {
     "base_uri": "https://localhost:8080/"
    },
    "id": "vhDvU-ZyyJDq",
    "outputId": "e1ca6086-8095-409e-d857-038b90d35012"
   },
   "outputs": [
    {
     "name": "stdout",
     "output_type": "stream",
     "text": [
      "Review text:\n",
      "This sleek, sexy movie is a must-see. Only upon multiple viewings can\n",
      "one truly understand the uniqueness of this film. Personally I enjoy\n",
      "the narrator for his intelligent, no subject left untouched, style of\n",
      "narration. The introduction grips you right away, and holds you at the\n",
      "edge of your seat throughout the film. He provides wonderful insight\n",
      "into the world of the trainables and allows the audience to really\n",
      "'connect' with internal horror this film exhibits. The script itself\n",
      "holds the movie together wonderfully. Not only for kids, but the\n",
      "elderly alike will gain a higher understanding of the trainables and\n",
      "the modern grasp that they have on the sexual experience. Ahead of its\n",
      "time and groundbreaking in cinematography, it surely defines the word\n",
      "'masterpiece'.\n",
      "\n",
      "Actual    : negative\n",
      "Predicted : positive\n",
      "\n",
      "Review text:\n",
      "But the opposite, sorry bud, i completely understand how you can be\n",
      "dragged into a film because you relate to the subject ( and you have).\n",
      "This film is terrible, the main character would give any charlie brown\n",
      "subtitler a run for his money he just constantly mumbles which is\n",
      "always a laugh, most scenes just feel awkward with characters more\n",
      "often than not gazing across to another with a look of...its your line\n",
      "now, then i will react. Best British comedy? Please buddy, have a\n",
      "strong word with your bad bad self...at the end of the day ...the sun\n",
      "goes down...and this film is Awful. I mean well done to the people\n",
      "involved...they have made a film...and maybe motorbike enthusiasts may\n",
      "be into it but people that still live here on earth with an actual\n",
      "sense of humour will struggle with this more than smiling at the\n",
      "Christmas present they're nan bought them...was that overly harsh? i\n",
      "do apologise...\n",
      "\n",
      "Actual    : positive\n",
      "Predicted : negative\n",
      "\n",
      "Review text:\n",
      "Great movie - especially the music - Etta James - \"At Last\". This\n",
      "speaks volumes when you have finally found that special someone.\n",
      "\n",
      "Actual    : negative\n",
      "Predicted : positive\n",
      "\n",
      "Review text:\n",
      "It is enjoyable and fast-paced. <br /><br />There is no way on Earth\n",
      "that the actor playing Mat could be eighteen. However, the main thing\n",
      "is that he does act eighteen very convincingly. It must be a credit to\n",
      "his audition that he convinced them to cast him. I quite soon accepted\n",
      "him as being a naive young country boy.<br /><br />While his was the\n",
      "best performance, most of the others were also very engaging. In\n",
      "particular, the interplay between the policemen was natural and well-\n",
      "balanced, and worked very well.<br /><br />It is only about 45 minutes\n",
      "long, so the plot is not complex. More key is the style of the whole\n",
      "thing. It is very slick and vibrant, and the backdrops are\n",
      "atmospheric, especially from the fact that all the colours are\n",
      "extremely rich. The gangland is identifiable to foreign audiences, but\n",
      "still manages to be distinctly Australian.\n",
      "\n",
      "Actual    : negative\n",
      "Predicted : positive\n",
      "\n",
      "Review text:\n",
      "Sorry to disagree with you, but I found the DKC series to be quite\n",
      "engaging. So much so that I invested in the SNES system and my own\n",
      "copies of the games. This is, mind you, almost ten years after the\n",
      "initial release of DKC 1. The graphics were ground-breaking for their\n",
      "time, the first vector graphics games for home systems. The music and\n",
      "characters are all memorable, and the games brought myself and my\n",
      "girlfriend dozens of hours of entertainment. True, the second game was\n",
      "better than the first, and the third was perhaps lacking the 'edge' of\n",
      "the second installment. But all three offered different play, and I\n",
      "enjoy them to this day. By the way, I'm old enough to remember when\n",
      "there were NO video games whatsoever (and TVs were black and white!).\n",
      "\n",
      "Actual    : negative\n",
      "Predicted : positive\n",
      "\n"
     ]
    }
   ],
   "source": [
    "top_k = 5\n",
    "\n",
    "for idx, _ in sorted_wrong_pred[:top_k]:\n",
    "    wrapped_review = \"\\n\".join(wrap(y_review[idx]))\n",
    "\n",
    "    print(f'Review text:\\n{wrapped_review}\\n')\n",
    "    print(f'Actual    : {class_names[y_test[idx]]}')\n",
    "    print(f'Predicted : {class_names[y_pred[idx]]}\\n')\n",
    "    # break"
   ]
  },
  {
   "cell_type": "code",
   "execution_count": 145,
   "id": "4e95ae1f-734d-437b-982b-82656f6deaae",
   "metadata": {},
   "outputs": [
    {
     "data": {
      "text/html": [
       "<div>\n",
       "<style scoped>\n",
       "    .dataframe tbody tr th:only-of-type {\n",
       "        vertical-align: middle;\n",
       "    }\n",
       "\n",
       "    .dataframe tbody tr th {\n",
       "        vertical-align: top;\n",
       "    }\n",
       "\n",
       "    .dataframe thead th {\n",
       "        text-align: right;\n",
       "    }\n",
       "</style>\n",
       "<table border=\"1\" class=\"dataframe\">\n",
       "  <thead>\n",
       "    <tr style=\"text-align: right;\">\n",
       "      <th></th>\n",
       "      <th>review</th>\n",
       "      <th>sentiment</th>\n",
       "    </tr>\n",
       "  </thead>\n",
       "  <tbody>\n",
       "    <tr>\n",
       "      <th>41703</th>\n",
       "      <td>This sleek, sexy movie is a must-see. Only upo...</td>\n",
       "      <td>0</td>\n",
       "    </tr>\n",
       "  </tbody>\n",
       "</table>\n",
       "</div>"
      ],
      "text/plain": [
       "                                                  review  sentiment\n",
       "41703  This sleek, sexy movie is a must-see. Only upo...          0"
      ]
     },
     "execution_count": 145,
     "metadata": {},
     "output_type": "execute_result"
    }
   ],
   "source": [
    "review_str = 'This sleek, sexy movie is a must-see'\n",
    "df[df.review.str.contains(review_str)]"
   ]
  },
  {
   "cell_type": "markdown",
   "id": "2fce6069-2b99-4b2f-867c-297726fafbcc",
   "metadata": {
    "id": "blkElYQqx3aC"
   },
   "source": [
    "**Obviously something was wrong about the original labellings for such reviews.**\n",
    "\n",
    "If the labels were correct, then the accuracy of the model would be much better,\n",
    "as proven by the results of the predictions."
   ]
  },
  {
   "cell_type": "code",
   "execution_count": null,
   "id": "00b12459-4a83-45ee-908d-1791db724a76",
   "metadata": {},
   "outputs": [],
   "source": []
  }
 ],
 "metadata": {
  "accelerator": "GPU",
  "colab": {
   "collapsed_sections": [],
   "name": "analysis_modelling.ipynb",
   "provenance": [],
   "toc_visible": true
  },
  "kernelspec": {
   "display_name": "torch",
   "language": "python",
   "name": "torch"
  },
  "language_info": {
   "codemirror_mode": {
    "name": "ipython",
    "version": 3
   },
   "file_extension": ".py",
   "mimetype": "text/x-python",
   "name": "python",
   "nbconvert_exporter": "python",
   "pygments_lexer": "ipython3",
   "version": "3.7.6"
  }
 },
 "nbformat": 4,
 "nbformat_minor": 5
}
